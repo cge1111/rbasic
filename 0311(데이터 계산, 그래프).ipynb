{
 "cells": [
  {
   "cell_type": "code",
   "execution_count": 1,
   "id": "apart-sympathy",
   "metadata": {},
   "outputs": [
    {
     "data": {
      "text/html": [
       "<ol class=list-inline>\n",
       "\t<li>0.25</li>\n",
       "\t<li>0.5</li>\n",
       "\t<li>0.75</li>\n",
       "\t<li>1</li>\n",
       "\t<li>1.25</li>\n",
       "</ol>\n"
      ],
      "text/latex": [
       "\\begin{enumerate*}\n",
       "\\item 0.25\n",
       "\\item 0.5\n",
       "\\item 0.75\n",
       "\\item 1\n",
       "\\item 1.25\n",
       "\\end{enumerate*}\n"
      ],
      "text/markdown": [
       "1. 0.25\n",
       "2. 0.5\n",
       "3. 0.75\n",
       "4. 1\n",
       "5. 1.25\n",
       "\n",
       "\n"
      ],
      "text/plain": [
       "[1] 0.25 0.50 0.75 1.00 1.25"
      ]
     },
     "metadata": {},
     "output_type": "display_data"
    }
   ],
   "source": [
    "x <- c(1,2,3,4,5)/4 # x를 4로 나눔\n",
    "x"
   ]
  },
  {
   "cell_type": "code",
   "execution_count": 3,
   "id": "editorial-reserve",
   "metadata": {},
   "outputs": [
    {
     "data": {
      "text/html": [
       "<ol class=list-inline>\n",
       "\t<li>1</li>\n",
       "\t<li>2</li>\n",
       "\t<li>3</li>\n",
       "\t<li>4</li>\n",
       "\t<li>5</li>\n",
       "</ol>\n"
      ],
      "text/latex": [
       "\\begin{enumerate*}\n",
       "\\item 1\n",
       "\\item 2\n",
       "\\item 3\n",
       "\\item 4\n",
       "\\item 5\n",
       "\\end{enumerate*}\n"
      ],
      "text/markdown": [
       "1. 1\n",
       "2. 2\n",
       "3. 3\n",
       "4. 4\n",
       "5. 5\n",
       "\n",
       "\n"
      ],
      "text/plain": [
       "[1] 1 2 3 4 5"
      ]
     },
     "metadata": {},
     "output_type": "display_data"
    },
    {
     "data": {
      "text/html": [
       "<ol class=list-inline>\n",
       "\t<li>1</li>\n",
       "\t<li>2</li>\n",
       "\t<li>3</li>\n",
       "\t<li>4</li>\n",
       "\t<li>5</li>\n",
       "</ol>\n"
      ],
      "text/latex": [
       "\\begin{enumerate*}\n",
       "\\item 1\n",
       "\\item 2\n",
       "\\item 3\n",
       "\\item 4\n",
       "\\item 5\n",
       "\\end{enumerate*}\n"
      ],
      "text/markdown": [
       "1. 1\n",
       "2. 2\n",
       "3. 3\n",
       "4. 4\n",
       "5. 5\n",
       "\n",
       "\n"
      ],
      "text/plain": [
       "[1] 1 2 3 4 5"
      ]
     },
     "metadata": {},
     "output_type": "display_data"
    },
    {
     "data": {
      "text/html": [
       "<ol class=list-inline>\n",
       "\t<li>1</li>\n",
       "\t<li>2</li>\n",
       "\t<li>3</li>\n",
       "\t<li>4</li>\n",
       "\t<li>5</li>\n",
       "</ol>\n"
      ],
      "text/latex": [
       "\\begin{enumerate*}\n",
       "\\item 1\n",
       "\\item 2\n",
       "\\item 3\n",
       "\\item 4\n",
       "\\item 5\n",
       "\\end{enumerate*}\n"
      ],
      "text/markdown": [
       "1. 1\n",
       "2. 2\n",
       "3. 3\n",
       "4. 4\n",
       "5. 5\n",
       "\n",
       "\n"
      ],
      "text/plain": [
       "[1] 1 2 3 4 5"
      ]
     },
     "metadata": {},
     "output_type": "display_data"
    },
    {
     "data": {
      "text/html": [
       "<ol class=list-inline>\n",
       "\t<li>1</li>\n",
       "\t<li>2</li>\n",
       "\t<li>3</li>\n",
       "\t<li>4</li>\n",
       "\t<li>5</li>\n",
       "</ol>\n"
      ],
      "text/latex": [
       "\\begin{enumerate*}\n",
       "\\item 1\n",
       "\\item 2\n",
       "\\item 3\n",
       "\\item 4\n",
       "\\item 5\n",
       "\\end{enumerate*}\n"
      ],
      "text/markdown": [
       "1. 1\n",
       "2. 2\n",
       "3. 3\n",
       "4. 4\n",
       "5. 5\n",
       "\n",
       "\n"
      ],
      "text/plain": [
       "[1] 1 2 3 4 5"
      ]
     },
     "metadata": {},
     "output_type": "display_data"
    },
    {
     "data": {
      "text/html": [
       "10"
      ],
      "text/latex": [
       "10"
      ],
      "text/markdown": [
       "10"
      ],
      "text/plain": [
       "[1] 10"
      ]
     },
     "metadata": {},
     "output_type": "display_data"
    },
    {
     "data": {
      "text/html": [
       "3.32192809488736"
      ],
      "text/latex": [
       "3.32192809488736"
      ],
      "text/markdown": [
       "3.32192809488736"
      ],
      "text/plain": [
       "[1] 3.321928"
      ]
     },
     "metadata": {},
     "output_type": "display_data"
    },
    {
     "data": {
      "text/html": [
       "3.16227766016838"
      ],
      "text/latex": [
       "3.16227766016838"
      ],
      "text/markdown": [
       "3.16227766016838"
      ],
      "text/plain": [
       "[1] 3.162278"
      ]
     },
     "metadata": {},
     "output_type": "display_data"
    },
    {
     "data": {
      "text/html": [
       "22026.4657948067"
      ],
      "text/latex": [
       "22026.4657948067"
      ],
      "text/markdown": [
       "22026.4657948067"
      ],
      "text/plain": [
       "[1] 22026.47"
      ]
     },
     "metadata": {},
     "output_type": "display_data"
    },
    {
     "data": {
      "text/html": [
       "15"
      ],
      "text/latex": [
       "15"
      ],
      "text/markdown": [
       "15"
      ],
      "text/plain": [
       "[1] 15"
      ]
     },
     "metadata": {},
     "output_type": "display_data"
    },
    {
     "data": {
      "text/html": [
       "3"
      ],
      "text/latex": [
       "3"
      ],
      "text/markdown": [
       "3"
      ],
      "text/plain": [
       "[1] 3"
      ]
     },
     "metadata": {},
     "output_type": "display_data"
    },
    {
     "data": {
      "text/html": [
       "3"
      ],
      "text/latex": [
       "3"
      ],
      "text/markdown": [
       "3"
      ],
      "text/plain": [
       "[1] 3"
      ]
     },
     "metadata": {},
     "output_type": "display_data"
    },
    {
     "data": {
      "text/html": [
       "5"
      ],
      "text/latex": [
       "5"
      ],
      "text/markdown": [
       "5"
      ],
      "text/plain": [
       "[1] 5"
      ]
     },
     "metadata": {},
     "output_type": "display_data"
    },
    {
     "data": {
      "text/html": [
       "1"
      ],
      "text/latex": [
       "1"
      ],
      "text/markdown": [
       "1"
      ],
      "text/plain": [
       "[1] 1"
      ]
     },
     "metadata": {},
     "output_type": "display_data"
    },
    {
     "data": {
      "text/html": [
       "<ol class=list-inline>\n",
       "\t<li>1</li>\n",
       "\t<li>5</li>\n",
       "</ol>\n"
      ],
      "text/latex": [
       "\\begin{enumerate*}\n",
       "\\item 1\n",
       "\\item 5\n",
       "\\end{enumerate*}\n"
      ],
      "text/markdown": [
       "1. 1\n",
       "2. 5\n",
       "\n",
       "\n"
      ],
      "text/plain": [
       "[1] 1 5"
      ]
     },
     "metadata": {},
     "output_type": "display_data"
    },
    {
     "data": {
      "text/html": [
       "1.58113883008419"
      ],
      "text/latex": [
       "1.58113883008419"
      ],
      "text/markdown": [
       "1.58113883008419"
      ],
      "text/plain": [
       "[1] 1.581139"
      ]
     },
     "metadata": {},
     "output_type": "display_data"
    },
    {
     "data": {
      "text/html": [
       "2.5"
      ],
      "text/latex": [
       "2.5"
      ],
      "text/markdown": [
       "2.5"
      ],
      "text/plain": [
       "[1] 2.5"
      ]
     },
     "metadata": {},
     "output_type": "display_data"
    }
   ],
   "source": [
    "round(x)    # 소수점 첫째 자리에서 반올림\n",
    "\n",
    "floor(x)    # 소수점 이하를 내림\n",
    "\n",
    "ceiling(x)    # 소수점 이하를 올림\n",
    "\n",
    "trunc(x)     # 소수점 이하를 올림\n",
    "\n",
    "abs(-10)     # 절댓값\n",
    "\n",
    "log(10, base=2)   # 밑이 2인 로그\n",
    "\n",
    "sqrt(10)     # 제곱근\n",
    "\n",
    "exp(10)     # 지수로 변환\n",
    "\n",
    "x <- c(1,2,3,4,5) \n",
    "sum(x)      # 합계\n",
    "\n",
    "mean(x)     # 평균\n",
    "\n",
    "median(x)      # 중앙값\n",
    "\n",
    "max(x)       # 최댓값\n",
    "\n",
    "min(x)       # 최솟값\n",
    "\n",
    "range(x)      # 범위\n",
    "\n",
    "sd(x)        # 표준편차\n",
    "\n",
    "var(x)       # 분산"
   ]
  },
  {
   "cell_type": "code",
   "execution_count": 4,
   "id": "armed-excerpt",
   "metadata": {},
   "outputs": [
    {
     "data": {
      "image/png": "[encoded data removed]",
      "text/plain": [
       "plot without title"
      ]
     },
     "metadata": {},
     "output_type": "display_data"
    }
   ],
   "source": [
    "plot(iris$Petal.Length)"
   ]
  },
  {
   "cell_type": "code",
   "execution_count": 5,
   "id": "incorporated-skill",
   "metadata": {
    "scrolled": true
   },
   "outputs": [
    {
     "data": {
      "image/png": "[encoded data removed]",
      "text/plain": [
       "plot without title"
      ]
     },
     "metadata": {},
     "output_type": "display_data"
    }
   ],
   "source": [
    "plot(iris$Sepal.Length, iris$Petal.Width)\n",
    "# 꽃잎 길이(Petal.Length)와 넓이(Petal.Width)를 축으로 산점도"
   ]
  },
  {
   "cell_type": "code",
   "execution_count": 7,
   "id": "dense-conversation",
   "metadata": {},
   "outputs": [
    {
     "data": {
      "image/png": "[encoded data removed]",
      "text/plain": [
       "Plot with title \"iris data\""
      ]
     },
     "metadata": {},
     "output_type": "display_data"
    }
   ],
   "source": [
    "# 품종에 따른 색상 분류 추가\n",
    "plot(iris$Petal.Length, iris$Petal.Width,\n",
    "     main=\"iris data\",xlab=\"Petal Length\",\n",
    "     ylab=\"Petal Width\", col=iris$Species)"
   ]
  },
  {
   "cell_type": "code",
   "execution_count": 8,
   "id": "executed-television",
   "metadata": {},
   "outputs": [
    {
     "data": {
      "image/png": "[encoded data removed]",
      "text/plain": [
       "plot without title"
      ]
     },
     "metadata": {},
     "output_type": "display_data"
    }
   ],
   "source": [
    " # pairs( ) 함수: 행렬 산점도 그리기\n",
    "pairs(~Sepal.Width +\n",
    "      Sepal.Length + \n",
    "      Petal.Width +\n",
    "      Petal.Length, \n",
    "      data = iris,\n",
    "      col = iris$Species)"
   ]
  },
  {
   "cell_type": "code",
   "execution_count": 9,
   "id": "integrated-subscription",
   "metadata": {},
   "outputs": [
    {
     "data": {
      "image/png": "[encoded data removed]",
      "text/plain": [
       "Plot with title \"Histogram of iris$Sepal.Width\""
      ]
     },
     "metadata": {},
     "output_type": "display_data"
    }
   ],
   "source": [
    "# hist( ) 함수: 히스토그램 -> 값의 변화 마다 빈도(frequency)를 표현\n",
    "hist(iris$Sepal.Width)"
   ]
  },
  {
   "cell_type": "code",
   "execution_count": 10,
   "id": "bigger-cursor",
   "metadata": {},
   "outputs": [
    {
     "data": {
      "image/png": "[encoded data removed]",
      "text/plain": [
       "Plot with title \"Histogram of iris$Sepal.Width\""
      ]
     },
     "metadata": {},
     "output_type": "display_data"
    }
   ],
   "source": [
    "hist(iris$Sepal.Width, freq=FALSE) # 확률 밀도로 확인하고 싶다면 freq = FALSE"
   ]
  },
  {
   "cell_type": "code",
   "execution_count": 13,
   "id": "electric-report",
   "metadata": {},
   "outputs": [
    {
     "data": {
      "image/png": "[encoded data removed]",
      "text/plain": [
       "plot without title"
      ]
     },
     "metadata": {},
     "output_type": "display_data"
    }
   ],
   "source": [
    "# barplot( ): 막대 그래프 그리기 -> 집단 간 차이\n",
    "# 품종별 꽃잎 길이의 평균을 구함\n",
    "x <- aggregate(Petal.Length ~ Species,iris, mean)\n",
    "barplot(x$Petal.Length, names = x$Species)   # 막대 그래프 이름으로 품종 지정"
   ]
  },
  {
   "cell_type": "code",
   "execution_count": 14,
   "id": "square-cargo",
   "metadata": {},
   "outputs": [
    {
     "data": {
      "image/png": "[encoded data removed]",
      "text/plain": [
       "plot without title"
      ]
     },
     "metadata": {},
     "output_type": "display_data"
    }
   ],
   "source": [
    "#  pie( ) 함수: 파이 차트 그리기 -> 데이터 비율 표현\n",
    "x <- aggregate(Petal.Length ~ Species, iris, sum)   # 품종별로 꽃잎 길이 합산\n",
    "pie(x$Petal.Length, labels = x$Species)    # 품종 이름을 붙여 파이 그래프를 그림"
   ]
  },
  {
   "cell_type": "code",
   "execution_count": 16,
   "id": "attended-metropolitan",
   "metadata": {},
   "outputs": [
    {
     "data": {
      "text/html": [
       "<dl class=dl-horizontal>\n",
       "\t<dt>0.1</dt>\n",
       "\t\t<dd>1.38</dd>\n",
       "\t<dt>0.2</dt>\n",
       "\t\t<dd>1.4448275862069</dd>\n",
       "\t<dt>0.3</dt>\n",
       "\t\t<dd>1.42857142857143</dd>\n",
       "\t<dt>0.4</dt>\n",
       "\t\t<dd>1.57142857142857</dd>\n",
       "\t<dt>0.5</dt>\n",
       "\t\t<dd>1.7</dd>\n",
       "\t<dt>0.6</dt>\n",
       "\t\t<dd>1.6</dd>\n",
       "\t<dt>1</dt>\n",
       "\t\t<dd>3.62857142857143</dd>\n",
       "\t<dt>1.1</dt>\n",
       "\t\t<dd>3.56666666666667</dd>\n",
       "\t<dt>1.2</dt>\n",
       "\t\t<dd>4.24</dd>\n",
       "\t<dt>1.3</dt>\n",
       "\t\t<dd>4.17692307692308</dd>\n",
       "\t<dt>1.4</dt>\n",
       "\t\t<dd>4.6375</dd>\n",
       "\t<dt>1.5</dt>\n",
       "\t\t<dd>4.65833333333333</dd>\n",
       "\t<dt>1.6</dt>\n",
       "\t\t<dd>5.025</dd>\n",
       "\t<dt>1.7</dt>\n",
       "\t\t<dd>4.75</dd>\n",
       "\t<dt>1.8</dt>\n",
       "\t\t<dd>5.33333333333333</dd>\n",
       "\t<dt>1.9</dt>\n",
       "\t\t<dd>5.32</dd>\n",
       "\t<dt>2</dt>\n",
       "\t\t<dd>5.55</dd>\n",
       "\t<dt>2.1</dt>\n",
       "\t\t<dd>5.78333333333333</dd>\n",
       "\t<dt>2.2</dt>\n",
       "\t\t<dd>6.03333333333333</dd>\n",
       "\t<dt>2.3</dt>\n",
       "\t\t<dd>5.7</dd>\n",
       "\t<dt>2.4</dt>\n",
       "\t\t<dd>5.43333333333333</dd>\n",
       "\t<dt>2.5</dt>\n",
       "\t\t<dd>5.93333333333333</dd>\n",
       "</dl>\n"
      ],
      "text/latex": [
       "\\begin{description*}\n",
       "\\item[0.1] 1.38\n",
       "\\item[0.2] 1.4448275862069\n",
       "\\item[0.3] 1.42857142857143\n",
       "\\item[0.4] 1.57142857142857\n",
       "\\item[0.5] 1.7\n",
       "\\item[0.6] 1.6\n",
       "\\item[1] 3.62857142857143\n",
       "\\item[1.1] 3.56666666666667\n",
       "\\item[1.2] 4.24\n",
       "\\item[1.3] 4.17692307692308\n",
       "\\item[1.4] 4.6375\n",
       "\\item[1.5] 4.65833333333333\n",
       "\\item[1.6] 5.025\n",
       "\\item[1.7] 4.75\n",
       "\\item[1.8] 5.33333333333333\n",
       "\\item[1.9] 5.32\n",
       "\\item[2] 5.55\n",
       "\\item[2.1] 5.78333333333333\n",
       "\\item[2.2] 6.03333333333333\n",
       "\\item[2.3] 5.7\n",
       "\\item[2.4] 5.43333333333333\n",
       "\\item[2.5] 5.93333333333333\n",
       "\\end{description*}\n"
      ],
      "text/markdown": [
       "0.1\n",
       ":   1.380.2\n",
       ":   1.44482758620690.3\n",
       ":   1.428571428571430.4\n",
       ":   1.571428571428570.5\n",
       ":   1.70.6\n",
       ":   1.61\n",
       ":   3.628571428571431.1\n",
       ":   3.566666666666671.2\n",
       ":   4.241.3\n",
       ":   4.176923076923081.4\n",
       ":   4.63751.5\n",
       ":   4.658333333333331.6\n",
       ":   5.0251.7\n",
       ":   4.751.8\n",
       ":   5.333333333333331.9\n",
       ":   5.322\n",
       ":   5.552.1\n",
       ":   5.783333333333332.2\n",
       ":   6.033333333333332.3\n",
       ":   5.72.4\n",
       ":   5.433333333333332.5\n",
       ":   5.93333333333333\n",
       "\n"
      ],
      "text/plain": [
       "     0.1      0.2      0.3      0.4      0.5      0.6        1      1.1 \n",
       "1.380000 1.444828 1.428571 1.571429 1.700000 1.600000 3.628571 3.566667 \n",
       "     1.2      1.3      1.4      1.5      1.6      1.7      1.8      1.9 \n",
       "4.240000 4.176923 4.637500 4.658333 5.025000 4.750000 5.333333 5.320000 \n",
       "       2      2.1      2.2      2.3      2.4      2.5 \n",
       "5.550000 5.783333 6.033333 5.700000 5.433333 5.933333 "
      ]
     },
     "metadata": {},
     "output_type": "display_data"
    },
    {
     "data": {
      "image/png": "[encoded data removed]",
      "text/plain": [
       "plot without title"
      ]
     },
     "metadata": {},
     "output_type": "display_data"
    }
   ],
   "source": [
    "# plot( ) 함수 o 옵션: 선 그래프 그리기\n",
    "# iris$Petal.Width를 그룹으로 iris$Petal.Length 평균을 구함\n",
    "x <- tapply(iris$Petal.Length, iris$Petal.Width, mean)\n",
    "x     # x를 확인\n",
    "\n",
    "plot(x, type = 'o')  # 선 그래프 옵션"
   ]
  },
  {
   "cell_type": "code",
   "execution_count": 17,
   "id": "accepting-cartridge",
   "metadata": {},
   "outputs": [
    {
     "data": {
      "image/png": "[encoded data removed]",
      "text/plain": [
       "plot without title"
      ]
     },
     "metadata": {},
     "output_type": "display_data"
    }
   ],
   "source": [
    "# boxplot( ) 함수: 상자 그림 그리기\n",
    "# 상자 그림(box plot(박스 플롯))은 최댓값, 최솟값, 중앙값, 사분위수, 이상치\n",
    "# 등을 알아보기 쉽게 나타내는 그래프\n",
    "boxplot(iris$Sepal.Width) # 꽃받침 넓이(Sepal.Width)"
   ]
  },
  {
   "cell_type": "code",
   "execution_count": 20,
   "id": "extra-cycling",
   "metadata": {},
   "outputs": [
    {
     "data": {
      "text/html": [
       "<table>\n",
       "<thead><tr><th></th><th scope=col>Fertility</th><th scope=col>Agriculture</th><th scope=col>Examination</th><th scope=col>Education</th><th scope=col>Catholic</th><th scope=col>Infant.Mortality</th></tr></thead>\n",
       "<tbody>\n",
       "\t<tr><th scope=row>Courtelary</th><td>80.2 </td><td>17.0 </td><td>15   </td><td>12   </td><td> 9.96</td><td>22.2 </td></tr>\n",
       "\t<tr><th scope=row>Delemont</th><td>83.1 </td><td>45.1 </td><td> 6   </td><td> 9   </td><td>84.84</td><td>22.2 </td></tr>\n",
       "\t<tr><th scope=row>Franches-Mnt</th><td>92.5 </td><td>39.7 </td><td> 5   </td><td> 5   </td><td>93.40</td><td>20.2 </td></tr>\n",
       "\t<tr><th scope=row>Moutier</th><td>85.8 </td><td>36.5 </td><td>12   </td><td> 7   </td><td>33.77</td><td>20.3 </td></tr>\n",
       "\t<tr><th scope=row>Neuveville</th><td>76.9 </td><td>43.5 </td><td>17   </td><td>15   </td><td> 5.16</td><td>20.6 </td></tr>\n",
       "\t<tr><th scope=row>Porrentruy</th><td>76.1 </td><td>35.3 </td><td> 9   </td><td> 7   </td><td>90.57</td><td>26.6 </td></tr>\n",
       "</tbody>\n",
       "</table>\n"
      ],
      "text/latex": [
       "\\begin{tabular}{r|llllll}\n",
       "  & Fertility & Agriculture & Examination & Education & Catholic & Infant.Mortality\\\\\n",
       "\\hline\n",
       "\tCourtelary & 80.2  & 17.0  & 15    & 12    &  9.96 & 22.2 \\\\\n",
       "\tDelemont & 83.1  & 45.1  &  6    &  9    & 84.84 & 22.2 \\\\\n",
       "\tFranches-Mnt & 92.5  & 39.7  &  5    &  5    & 93.40 & 20.2 \\\\\n",
       "\tMoutier & 85.8  & 36.5  & 12    &  7    & 33.77 & 20.3 \\\\\n",
       "\tNeuveville & 76.9  & 43.5  & 17    & 15    &  5.16 & 20.6 \\\\\n",
       "\tPorrentruy & 76.1  & 35.3  &  9    &  7    & 90.57 & 26.6 \\\\\n",
       "\\end{tabular}\n"
      ],
      "text/markdown": [
       "\n",
       "| <!--/--> | Fertility | Agriculture | Examination | Education | Catholic | Infant.Mortality |\n",
       "|---|---|---|---|---|---|---|\n",
       "| Courtelary | 80.2  | 17.0  | 15    | 12    |  9.96 | 22.2  |\n",
       "| Delemont | 83.1  | 45.1  |  6    |  9    | 84.84 | 22.2  |\n",
       "| Franches-Mnt | 92.5  | 39.7  |  5    |  5    | 93.40 | 20.2  |\n",
       "| Moutier | 85.8  | 36.5  | 12    |  7    | 33.77 | 20.3  |\n",
       "| Neuveville | 76.9  | 43.5  | 17    | 15    |  5.16 | 20.6  |\n",
       "| Porrentruy | 76.1  | 35.3  |  9    |  7    | 90.57 | 26.6  |\n",
       "\n"
      ],
      "text/plain": [
       "             Fertility Agriculture Examination Education Catholic\n",
       "Courtelary   80.2      17.0        15          12         9.96   \n",
       "Delemont     83.1      45.1         6           9        84.84   \n",
       "Franches-Mnt 92.5      39.7         5           5        93.40   \n",
       "Moutier      85.8      36.5        12           7        33.77   \n",
       "Neuveville   76.9      43.5        17          15         5.16   \n",
       "Porrentruy   76.1      35.3         9           7        90.57   \n",
       "             Infant.Mortality\n",
       "Courtelary   22.2            \n",
       "Delemont     22.2            \n",
       "Franches-Mnt 20.2            \n",
       "Moutier      20.3            \n",
       "Neuveville   20.6            \n",
       "Porrentruy   26.6            "
      ]
     },
     "metadata": {},
     "output_type": "display_data"
    }
   ],
   "source": [
    "head(swiss)"
   ]
  },
  {
   "cell_type": "code",
   "execution_count": 21,
   "id": "premier-torture",
   "metadata": {},
   "outputs": [
    {
     "data": {
      "text/html": [
       "<ol class=list-inline>\n",
       "\t<li>47</li>\n",
       "\t<li>6</li>\n",
       "</ol>\n"
      ],
      "text/latex": [
       "\\begin{enumerate*}\n",
       "\\item 47\n",
       "\\item 6\n",
       "\\end{enumerate*}\n"
      ],
      "text/markdown": [
       "1. 47\n",
       "2. 6\n",
       "\n",
       "\n"
      ],
      "text/plain": [
       "[1] 47  6"
      ]
     },
     "metadata": {},
     "output_type": "display_data"
    }
   ],
   "source": [
    "dim(swiss)"
   ]
  },
  {
   "cell_type": "code",
   "execution_count": 1,
   "id": "protecting-front",
   "metadata": {},
   "outputs": [
    {
     "data": {
      "image/png": "[encoded data removed]",
      "text/plain": [
       "plot without title"
      ]
     },
     "metadata": {},
     "output_type": "display_data"
    }
   ],
   "source": [
    "plot(swiss)"
   ]
  },
  {
   "cell_type": "code",
   "execution_count": null,
   "id": "accepting-argument",
   "metadata": {},
   "outputs": [],
   "source": []
  }
 ],
 "metadata": {
  "kernelspec": {
   "display_name": "R",
   "language": "R",
   "name": "ir"
  },
  "language_info": {
   "codemirror_mode": "r",
   "file_extension": ".r",
   "mimetype": "text/x-r-source",
   "name": "R",
   "pygments_lexer": "r",
   "version": "3.6.1"
  }
 },
 "nbformat": 4,
 "nbformat_minor": 5
}
