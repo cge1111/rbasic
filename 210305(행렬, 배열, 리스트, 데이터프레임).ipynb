{
 "cells": [
  {
   "cell_type": "code",
   "execution_count": 1,
   "id": "retired-church",
   "metadata": {},
   "outputs": [
    {
     "data": {
      "text/html": [
       "'logical'"
      ],
      "text/latex": [
       "'logical'"
      ],
      "text/markdown": [
       "'logical'"
      ],
      "text/plain": [
       "[1] \"logical\""
      ]
     },
     "metadata": {},
     "output_type": "display_data"
    },
    {
     "data": {
      "text/html": [
       "'logical'"
      ],
      "text/latex": [
       "'logical'"
      ],
      "text/markdown": [
       "'logical'"
      ],
      "text/plain": [
       "[1] \"logical\""
      ]
     },
     "metadata": {},
     "output_type": "display_data"
    }
   ],
   "source": [
    "# 객체형\n",
    "\n",
    "x <-  TRUE #  alt + -\n",
    "y <-  FALSE # alt + enter\n",
    "\n",
    "class(x); class(y) # %>% 파이프 연산자 ctrl + shift + m"
   ]
  },
  {
   "cell_type": "code",
   "execution_count": 5,
   "id": "express-safety",
   "metadata": {},
   "outputs": [
    {
     "data": {
      "text/html": [
       "<table>\n",
       "<tbody>\n",
       "\t<tr><td>1 </td><td> 6</td><td>11</td><td>16</td></tr>\n",
       "\t<tr><td>2 </td><td> 7</td><td>12</td><td>17</td></tr>\n",
       "\t<tr><td>3 </td><td> 8</td><td>13</td><td>18</td></tr>\n",
       "\t<tr><td>4 </td><td> 9</td><td>14</td><td>19</td></tr>\n",
       "\t<tr><td>5 </td><td>10</td><td>15</td><td>20</td></tr>\n",
       "</tbody>\n",
       "</table>\n"
      ],
      "text/latex": [
       "\\begin{tabular}{llll}\n",
       "\t 1  &  6 & 11 & 16\\\\\n",
       "\t 2  &  7 & 12 & 17\\\\\n",
       "\t 3  &  8 & 13 & 18\\\\\n",
       "\t 4  &  9 & 14 & 19\\\\\n",
       "\t 5  & 10 & 15 & 20\\\\\n",
       "\\end{tabular}\n"
      ],
      "text/markdown": [
       "\n",
       "| 1  |  6 | 11 | 16 |\n",
       "| 2  |  7 | 12 | 17 |\n",
       "| 3  |  8 | 13 | 18 |\n",
       "| 4  |  9 | 14 | 19 |\n",
       "| 5  | 10 | 15 | 20 |\n",
       "\n"
      ],
      "text/plain": [
       "     [,1] [,2] [,3] [,4]\n",
       "[1,] 1     6   11   16  \n",
       "[2,] 2     7   12   17  \n",
       "[3,] 3     8   13   18  \n",
       "[4,] 4     9   14   19  \n",
       "[5,] 5    10   15   20  "
      ]
     },
     "metadata": {},
     "output_type": "display_data"
    },
    {
     "data": {
      "text/html": [
       "'matrix'"
      ],
      "text/latex": [
       "'matrix'"
      ],
      "text/markdown": [
       "'matrix'"
      ],
      "text/plain": [
       "[1] \"matrix\""
      ]
     },
     "metadata": {},
     "output_type": "display_data"
    },
    {
     "data": {
      "text/html": [
       "6"
      ],
      "text/latex": [
       "6"
      ],
      "text/markdown": [
       "6"
      ],
      "text/plain": [
       "[1] 6"
      ]
     },
     "metadata": {},
     "output_type": "display_data"
    },
    {
     "data": {
      "text/html": [
       "<table>\n",
       "<tbody>\n",
       "\t<tr><td>2 </td><td>7 </td><td>12</td><td>17</td></tr>\n",
       "\t<tr><td>3 </td><td>8 </td><td>13</td><td>18</td></tr>\n",
       "\t<tr><td>4 </td><td>9 </td><td>14</td><td>19</td></tr>\n",
       "</tbody>\n",
       "</table>\n"
      ],
      "text/latex": [
       "\\begin{tabular}{llll}\n",
       "\t 2  & 7  & 12 & 17\\\\\n",
       "\t 3  & 8  & 13 & 18\\\\\n",
       "\t 4  & 9  & 14 & 19\\\\\n",
       "\\end{tabular}\n"
      ],
      "text/markdown": [
       "\n",
       "| 2  | 7  | 12 | 17 |\n",
       "| 3  | 8  | 13 | 18 |\n",
       "| 4  | 9  | 14 | 19 |\n",
       "\n"
      ],
      "text/plain": [
       "     [,1] [,2] [,3] [,4]\n",
       "[1,] 2    7    12   17  \n",
       "[2,] 3    8    13   18  \n",
       "[3,] 4    9    14   19  "
      ]
     },
     "metadata": {},
     "output_type": "display_data"
    },
    {
     "data": {
      "text/html": [
       "<ol class=list-inline>\n",
       "\t<li>7</li>\n",
       "\t<li>8</li>\n",
       "\t<li>9</li>\n",
       "</ol>\n"
      ],
      "text/latex": [
       "\\begin{enumerate*}\n",
       "\\item 7\n",
       "\\item 8\n",
       "\\item 9\n",
       "\\end{enumerate*}\n"
      ],
      "text/markdown": [
       "1. 7\n",
       "2. 8\n",
       "3. 9\n",
       "\n",
       "\n"
      ],
      "text/plain": [
       "[1] 7 8 9"
      ]
     },
     "metadata": {},
     "output_type": "display_data"
    },
    {
     "data": {
      "text/html": [
       "<table>\n",
       "<tbody>\n",
       "\t<tr><td>1 </td><td> 6</td><td>11</td><td>16</td></tr>\n",
       "\t<tr><td>3 </td><td> 8</td><td>13</td><td>18</td></tr>\n",
       "\t<tr><td>4 </td><td> 9</td><td>14</td><td>19</td></tr>\n",
       "\t<tr><td>5 </td><td>10</td><td>15</td><td>20</td></tr>\n",
       "</tbody>\n",
       "</table>\n"
      ],
      "text/latex": [
       "\\begin{tabular}{llll}\n",
       "\t 1  &  6 & 11 & 16\\\\\n",
       "\t 3  &  8 & 13 & 18\\\\\n",
       "\t 4  &  9 & 14 & 19\\\\\n",
       "\t 5  & 10 & 15 & 20\\\\\n",
       "\\end{tabular}\n"
      ],
      "text/markdown": [
       "\n",
       "| 1  |  6 | 11 | 16 |\n",
       "| 3  |  8 | 13 | 18 |\n",
       "| 4  |  9 | 14 | 19 |\n",
       "| 5  | 10 | 15 | 20 |\n",
       "\n"
      ],
      "text/plain": [
       "     [,1] [,2] [,3] [,4]\n",
       "[1,] 1     6   11   16  \n",
       "[2,] 3     8   13   18  \n",
       "[3,] 4     9   14   19  \n",
       "[4,] 5    10   15   20  "
      ]
     },
     "metadata": {},
     "output_type": "display_data"
    }
   ],
   "source": [
    "# 행렬\n",
    "\n",
    "x <- matrix(1:20, 5,4) # 1~20의 숫자 값으로 5행 4열 행렬을 생성\n",
    "x\n",
    "class(x) # 데이터 구조는 행렬(배열 계열, R 4.0 이하는 matrix만 출력됨)\n",
    "x[1,2]   # 첫 번째 행, 두 번째 열 위치 선택\n",
    "x[2:4,]  # 2~4행을 선택, 모든 열을 선택\n",
    "x[2:4,2] # 2~4행을 선택, 두 번째 열을 선택\n",
    "x[-2,]   # 2행만 빼고 모두 선택, 모든 열을 선택 / 2~4행을 선택했지만 [1, ] [2, ] [3, ]으로 표현됩니다."
   ]
  },
  {
   "cell_type": "code",
   "execution_count": 6,
   "id": "approved-camping",
   "metadata": {},
   "outputs": [
    {
     "data": {
      "text/html": [
       "<table>\n",
       "<tbody>\n",
       "\t<tr><td> 1</td><td> 2</td><td> 3</td><td> 4</td></tr>\n",
       "\t<tr><td> 5</td><td> 6</td><td> 7</td><td> 8</td></tr>\n",
       "\t<tr><td> 9</td><td>10</td><td>11</td><td>12</td></tr>\n",
       "\t<tr><td>13</td><td>14</td><td>15</td><td>16</td></tr>\n",
       "\t<tr><td>17</td><td>18</td><td>19</td><td>20</td></tr>\n",
       "</tbody>\n",
       "</table>\n"
      ],
      "text/latex": [
       "\\begin{tabular}{llll}\n",
       "\t  1 &  2 &  3 &  4\\\\\n",
       "\t  5 &  6 &  7 &  8\\\\\n",
       "\t  9 & 10 & 11 & 12\\\\\n",
       "\t 13 & 14 & 15 & 16\\\\\n",
       "\t 17 & 18 & 19 & 20\\\\\n",
       "\\end{tabular}\n"
      ],
      "text/markdown": [
       "\n",
       "|  1 |  2 |  3 |  4 |\n",
       "|  5 |  6 |  7 |  8 |\n",
       "|  9 | 10 | 11 | 12 |\n",
       "| 13 | 14 | 15 | 16 |\n",
       "| 17 | 18 | 19 | 20 |\n",
       "\n"
      ],
      "text/plain": [
       "     [,1] [,2] [,3] [,4]\n",
       "[1,]  1    2    3    4  \n",
       "[2,]  5    6    7    8  \n",
       "[3,]  9   10   11   12  \n",
       "[4,] 13   14   15   16  \n",
       "[5,] 17   18   19   20  "
      ]
     },
     "metadata": {},
     "output_type": "display_data"
    }
   ],
   "source": [
    "matrix(1:20,5,4,byrow=TRUE) #행을 기준으로 왼쪽에서 오른쪽으로 채워진 것"
   ]
  },
  {
   "cell_type": "code",
   "execution_count": 8,
   "id": "trying-birmingham",
   "metadata": {},
   "outputs": [
    {
     "data": {
      "text/html": [
       "<ol class=list-inline>\n",
       "\t<li>1</li>\n",
       "\t<li>2</li>\n",
       "\t<li>1</li>\n",
       "\t<li>2</li>\n",
       "\t<li>1</li>\n",
       "\t<li>2</li>\n",
       "\t<li>1</li>\n",
       "\t<li>2</li>\n",
       "\t<li>1</li>\n",
       "\t<li>2</li>\n",
       "\t<li>1</li>\n",
       "\t<li>2</li>\n",
       "\t<li>1</li>\n",
       "\t<li>2</li>\n",
       "\t<li>1</li>\n",
       "\t<li>2</li>\n",
       "\t<li>1</li>\n",
       "\t<li>2</li>\n",
       "\t<li>1</li>\n",
       "\t<li>2</li>\n",
       "\t<li>1</li>\n",
       "\t<li>2</li>\n",
       "\t<li>1</li>\n",
       "\t<li>2</li>\n",
       "\t<li>1</li>\n",
       "\t<li>2</li>\n",
       "\t<li>1</li>\n",
       "\t<li>2</li>\n",
       "\t<li>1</li>\n",
       "\t<li>2</li>\n",
       "\t<li>1</li>\n",
       "\t<li>2</li>\n",
       "\t<li>1</li>\n",
       "\t<li>2</li>\n",
       "\t<li>1</li>\n",
       "\t<li>2</li>\n",
       "\t<li>1</li>\n",
       "\t<li>2</li>\n",
       "\t<li>1</li>\n",
       "\t<li>2</li>\n",
       "</ol>\n"
      ],
      "text/latex": [
       "\\begin{enumerate*}\n",
       "\\item 1\n",
       "\\item 2\n",
       "\\item 1\n",
       "\\item 2\n",
       "\\item 1\n",
       "\\item 2\n",
       "\\item 1\n",
       "\\item 2\n",
       "\\item 1\n",
       "\\item 2\n",
       "\\item 1\n",
       "\\item 2\n",
       "\\item 1\n",
       "\\item 2\n",
       "\\item 1\n",
       "\\item 2\n",
       "\\item 1\n",
       "\\item 2\n",
       "\\item 1\n",
       "\\item 2\n",
       "\\item 1\n",
       "\\item 2\n",
       "\\item 1\n",
       "\\item 2\n",
       "\\item 1\n",
       "\\item 2\n",
       "\\item 1\n",
       "\\item 2\n",
       "\\item 1\n",
       "\\item 2\n",
       "\\item 1\n",
       "\\item 2\n",
       "\\item 1\n",
       "\\item 2\n",
       "\\item 1\n",
       "\\item 2\n",
       "\\item 1\n",
       "\\item 2\n",
       "\\item 1\n",
       "\\item 2\n",
       "\\end{enumerate*}\n"
      ],
      "text/markdown": [
       "1. 1\n",
       "2. 2\n",
       "3. 1\n",
       "4. 2\n",
       "5. 1\n",
       "6. 2\n",
       "7. 1\n",
       "8. 2\n",
       "9. 1\n",
       "10. 2\n",
       "11. 1\n",
       "12. 2\n",
       "13. 1\n",
       "14. 2\n",
       "15. 1\n",
       "16. 2\n",
       "17. 1\n",
       "18. 2\n",
       "19. 1\n",
       "20. 2\n",
       "21. 1\n",
       "22. 2\n",
       "23. 1\n",
       "24. 2\n",
       "25. 1\n",
       "26. 2\n",
       "27. 1\n",
       "28. 2\n",
       "29. 1\n",
       "30. 2\n",
       "31. 1\n",
       "32. 2\n",
       "33. 1\n",
       "34. 2\n",
       "35. 1\n",
       "36. 2\n",
       "37. 1\n",
       "38. 2\n",
       "39. 1\n",
       "40. 2\n",
       "\n",
       "\n"
      ],
      "text/plain": [
       ", , 1\n",
       "\n",
       "     [,1] [,2] [,3] [,4]\n",
       "[1,]    1    2    1    2\n",
       "[2,]    2    1    2    1\n",
       "[3,]    1    2    1    2\n",
       "[4,]    2    1    2    1\n",
       "[5,]    1    2    1    2\n",
       "\n",
       ", , 2\n",
       "\n",
       "     [,1] [,2] [,3] [,4]\n",
       "[1,]    1    2    1    2\n",
       "[2,]    2    1    2    1\n",
       "[3,]    1    2    1    2\n",
       "[4,]    2    1    2    1\n",
       "[5,]    1    2    1    2\n"
      ]
     },
     "metadata": {},
     "output_type": "display_data"
    },
    {
     "data": {
      "text/html": [
       "'array'"
      ],
      "text/latex": [
       "'array'"
      ],
      "text/markdown": [
       "'array'"
      ],
      "text/plain": [
       "[1] \"array\""
      ]
     },
     "metadata": {},
     "output_type": "display_data"
    }
   ],
   "source": [
    "# 배열: 차원(dim=dimension) \n",
    "# 속성을 가진 데이터 구조 array(데이터, c(행개수, 열개수, 차원))\n",
    "\n",
    "x <- array(1:2,c(5,4,2)) # 1과 2 값으로 5행, 4열, 2차원\n",
    "x\n",
    "class(x)"
   ]
  },
  {
   "cell_type": "code",
   "execution_count": 10,
   "id": "whole-warning",
   "metadata": {},
   "outputs": [
    {
     "data": {
      "text/html": [
       "<ol>\n",
       "\t<li><ol class=list-inline>\n",
       "\t<li>1</li>\n",
       "\t<li>2</li>\n",
       "\t<li>3</li>\n",
       "\t<li>4</li>\n",
       "\t<li>5</li>\n",
       "</ol>\n",
       "</li>\n",
       "\t<li><ol class=list-inline>\n",
       "\t<li>1</li>\n",
       "\t<li>2</li>\n",
       "\t<li>3</li>\n",
       "\t<li>4</li>\n",
       "\t<li>5</li>\n",
       "\t<li>6</li>\n",
       "\t<li>7</li>\n",
       "\t<li>8</li>\n",
       "\t<li>9</li>\n",
       "\t<li>10</li>\n",
       "\t<li>11</li>\n",
       "\t<li>12</li>\n",
       "\t<li>13</li>\n",
       "\t<li>14</li>\n",
       "\t<li>15</li>\n",
       "\t<li>16</li>\n",
       "\t<li>17</li>\n",
       "\t<li>18</li>\n",
       "\t<li>19</li>\n",
       "\t<li>20</li>\n",
       "\t<li>21</li>\n",
       "\t<li>22</li>\n",
       "\t<li>23</li>\n",
       "\t<li>24</li>\n",
       "\t<li>25</li>\n",
       "\t<li>26</li>\n",
       "\t<li>27</li>\n",
       "\t<li>28</li>\n",
       "\t<li>29</li>\n",
       "\t<li>30</li>\n",
       "\t<li>31</li>\n",
       "\t<li>32</li>\n",
       "\t<li>33</li>\n",
       "\t<li>34</li>\n",
       "\t<li>35</li>\n",
       "\t<li>36</li>\n",
       "\t<li>37</li>\n",
       "\t<li>38</li>\n",
       "\t<li>39</li>\n",
       "\t<li>40</li>\n",
       "\t<li>41</li>\n",
       "\t<li>42</li>\n",
       "\t<li>43</li>\n",
       "\t<li>44</li>\n",
       "\t<li>45</li>\n",
       "\t<li>46</li>\n",
       "\t<li>47</li>\n",
       "\t<li>48</li>\n",
       "\t<li>49</li>\n",
       "\t<li>50</li>\n",
       "</ol>\n",
       "</li>\n",
       "</ol>\n"
      ],
      "text/latex": [
       "\\begin{enumerate}\n",
       "\\item \\begin{enumerate*}\n",
       "\\item 1\n",
       "\\item 2\n",
       "\\item 3\n",
       "\\item 4\n",
       "\\item 5\n",
       "\\end{enumerate*}\n",
       "\n",
       "\\item \\begin{enumerate*}\n",
       "\\item 1\n",
       "\\item 2\n",
       "\\item 3\n",
       "\\item 4\n",
       "\\item 5\n",
       "\\item 6\n",
       "\\item 7\n",
       "\\item 8\n",
       "\\item 9\n",
       "\\item 10\n",
       "\\item 11\n",
       "\\item 12\n",
       "\\item 13\n",
       "\\item 14\n",
       "\\item 15\n",
       "\\item 16\n",
       "\\item 17\n",
       "\\item 18\n",
       "\\item 19\n",
       "\\item 20\n",
       "\\item 21\n",
       "\\item 22\n",
       "\\item 23\n",
       "\\item 24\n",
       "\\item 25\n",
       "\\item 26\n",
       "\\item 27\n",
       "\\item 28\n",
       "\\item 29\n",
       "\\item 30\n",
       "\\item 31\n",
       "\\item 32\n",
       "\\item 33\n",
       "\\item 34\n",
       "\\item 35\n",
       "\\item 36\n",
       "\\item 37\n",
       "\\item 38\n",
       "\\item 39\n",
       "\\item 40\n",
       "\\item 41\n",
       "\\item 42\n",
       "\\item 43\n",
       "\\item 44\n",
       "\\item 45\n",
       "\\item 46\n",
       "\\item 47\n",
       "\\item 48\n",
       "\\item 49\n",
       "\\item 50\n",
       "\\end{enumerate*}\n",
       "\n",
       "\\end{enumerate}\n"
      ],
      "text/markdown": [
       "1. 1. 1\n",
       "2. 2\n",
       "3. 3\n",
       "4. 4\n",
       "5. 5\n",
       "\n",
       "\n",
       "\n",
       "2. 1. 1\n",
       "2. 2\n",
       "3. 3\n",
       "4. 4\n",
       "5. 5\n",
       "6. 6\n",
       "7. 7\n",
       "8. 8\n",
       "9. 9\n",
       "10. 10\n",
       "11. 11\n",
       "12. 12\n",
       "13. 13\n",
       "14. 14\n",
       "15. 15\n",
       "16. 16\n",
       "17. 17\n",
       "18. 18\n",
       "19. 19\n",
       "20. 20\n",
       "21. 21\n",
       "22. 22\n",
       "23. 23\n",
       "24. 24\n",
       "25. 25\n",
       "26. 26\n",
       "27. 27\n",
       "28. 28\n",
       "29. 29\n",
       "30. 30\n",
       "31. 31\n",
       "32. 32\n",
       "33. 33\n",
       "34. 34\n",
       "35. 35\n",
       "36. 36\n",
       "37. 37\n",
       "38. 38\n",
       "39. 39\n",
       "40. 40\n",
       "41. 41\n",
       "42. 42\n",
       "43. 43\n",
       "44. 44\n",
       "45. 45\n",
       "46. 46\n",
       "47. 47\n",
       "48. 48\n",
       "49. 49\n",
       "50. 50\n",
       "\n",
       "\n",
       "\n",
       "\n",
       "\n"
      ],
      "text/plain": [
       "[[1]]\n",
       "[1] 1 2 3 4 5\n",
       "\n",
       "[[2]]\n",
       " [1]  1  2  3  4  5  6  7  8  9 10 11 12 13 14 15 16 17 18 19 20 21 22 23 24 25\n",
       "[26] 26 27 28 29 30 31 32 33 34 35 36 37 38 39 40 41 42 43 44 45 46 47 48 49 50\n"
      ]
     },
     "metadata": {},
     "output_type": "display_data"
    },
    {
     "data": {
      "text/html": [
       "<dl>\n",
       "\t<dt>$flower</dt>\n",
       "\t\t<dd>'rose'</dd>\n",
       "\t<dt>$color</dt>\n",
       "\t\t<dd>'red'</dd>\n",
       "\t<dt>[[3]]</dt>\n",
       "\t\t<dd>'white'</dd>\n",
       "</dl>\n"
      ],
      "text/latex": [
       "\\begin{description}\n",
       "\\item[\\$flower] 'rose'\n",
       "\\item[\\$color] 'red'\n",
       "\\item[{[[3]]}] 'white'\n",
       "\\end{description}\n"
      ],
      "text/markdown": [
       "$flower\n",
       ":   'rose'\n",
       "$color\n",
       ":   'red'\n",
       "[[3]]\n",
       ":   'white'\n",
       "\n",
       "\n"
      ],
      "text/plain": [
       "$flower\n",
       "[1] \"rose\"\n",
       "\n",
       "$color\n",
       "[1] \"red\"\n",
       "\n",
       "[[3]]\n",
       "[1] \"white\"\n"
      ]
     },
     "metadata": {},
     "output_type": "display_data"
    }
   ],
   "source": [
    "# 리스트 : 숫자나 문자처럼 여러 종류의 자료형을 가질 수 있으며 벡터뿐만 아니라 행렬, 배열 등 데이터 구조도 담을\n",
    "# 인덱스: 데이터 값이 담긴 색인, 요리 재료 상자의 이름표라고 할 수 있습니다.\n",
    "# 데이터 위치: 담겨 있는 데이터들의 순서에 따른 위치입니다. 예를 들어 6은 여섯 번째 위치입니다. 데이터 값이 1, 2, 3, 4, 5, 5, 6, 7, …처럼 담겨 있다면 여섯 번째 위치에는 5로 표현됩니다. 데이터 값의 순서에 따른 위치를 표현할 뿐 인덱스나 데이터 값이 아님에 유의하세요. 요리 재료들이 놓인 순서입니다.\n",
    "# 데이터 값: 인덱스에 담긴 데이터 값입니다. 요리 재료라고 할 수 있습니다.\n",
    "\n",
    "x <- list(c(1:5),c(1:50)) # 인덱스 1은 1부터 5까지 데이터 값을 가집니다. 인덱스 2는 1부터 50까지 데이터 값을 가집니다.\n",
    "x\n",
    "\n",
    "# flower, color는 키, rose, red, white는 밸류\n",
    "x <- list(flower=\"rose\", color=\"red\",\"white\")  # flower 키는 밸류로 \"rose\",  color 키는 밸류로 \"red\", \"white\"\n",
    "x # 키(key): 인덱스와 같습니다, 밸류(value): 데이터 값과 같습니다."
   ]
  },
  {
   "cell_type": "code",
   "execution_count": 15,
   "id": "recent-aberdeen",
   "metadata": {},
   "outputs": [
    {
     "data": {
      "text/html": [
       "<table>\n",
       "<thead><tr><th scope=col>name</th><th scope=col>age</th><th scope=col>height</th><th scope=col>weight</th></tr></thead>\n",
       "<tbody>\n",
       "\t<tr><td>kim </td><td>32  </td><td>170 </td><td>63  </td></tr>\n",
       "\t<tr><td>lee </td><td>25  </td><td>175 </td><td>66  </td></tr>\n",
       "\t<tr><td>choi</td><td>18  </td><td>168 </td><td>59  </td></tr>\n",
       "\t<tr><td>park</td><td>39  </td><td>180 </td><td>70  </td></tr>\n",
       "</tbody>\n",
       "</table>\n"
      ],
      "text/latex": [
       "\\begin{tabular}{r|llll}\n",
       " name & age & height & weight\\\\\n",
       "\\hline\n",
       "\t kim  & 32   & 170  & 63  \\\\\n",
       "\t lee  & 25   & 175  & 66  \\\\\n",
       "\t choi & 18   & 168  & 59  \\\\\n",
       "\t park & 39   & 180  & 70  \\\\\n",
       "\\end{tabular}\n"
      ],
      "text/markdown": [
       "\n",
       "| name | age | height | weight |\n",
       "|---|---|---|---|\n",
       "| kim  | 32   | 170  | 63   |\n",
       "| lee  | 25   | 175  | 66   |\n",
       "| choi | 18   | 168  | 59   |\n",
       "| park | 39   | 180  | 70   |\n",
       "\n"
      ],
      "text/plain": [
       "  name age height weight\n",
       "1 kim  32  170    63    \n",
       "2 lee  25  175    66    \n",
       "3 choi 18  168    59    \n",
       "4 park 39  180    70    "
      ]
     },
     "metadata": {},
     "output_type": "display_data"
    },
    {
     "data": {
      "text/html": [
       "'data.frame'"
      ],
      "text/latex": [
       "'data.frame'"
      ],
      "text/markdown": [
       "'data.frame'"
      ],
      "text/plain": [
       "[1] \"data.frame\""
      ]
     },
     "metadata": {},
     "output_type": "display_data"
    }
   ],
   "source": [
    "# 데이터 프레임 : 엑셀(Excel)의 데이터 시트를 생각 !!제일 중요!!\n",
    "# data.frame(열이름 = c(데이터1, 데이터2, ...), 열이름 = c(데이터1, 데이터2, ...), ...)\n",
    "\n",
    "# 행과 열을 각각 네 개씩 갖는 데이터 프레임\n",
    "df <- data.frame(name = c(\"kim\", \"lee\", \"choi\", \"park\"), \n",
    "                 age = c(32, 25, 18, 39),                \n",
    "                 height = c(170, 175, 168, 180),         \n",
    "                 weight = c(63, 66, 59, 70))             \n",
    "df\n",
    "class(df)"
   ]
  },
  {
   "cell_type": "code",
   "execution_count": 17,
   "id": "backed-nature",
   "metadata": {},
   "outputs": [],
   "source": [
    "name <- c(\"kim\", \"lee\", \"choi\", \"park\")   # name 변수에 데이터 값을 할당"
   ]
  },
  {
   "cell_type": "code",
   "execution_count": 18,
   "id": "functioning-venue",
   "metadata": {},
   "outputs": [],
   "source": [
    "age <- c(32, 25, 18, 39)    # age 변수에 데이터 값을 할당"
   ]
  },
  {
   "cell_type": "code",
   "execution_count": 19,
   "id": "vulnerable-stage",
   "metadata": {},
   "outputs": [],
   "source": [
    "height <- c(170, 175, 168, 180)     # weight 변수에 데이터 값을 할당"
   ]
  },
  {
   "cell_type": "code",
   "execution_count": 20,
   "id": "extensive-asian",
   "metadata": {},
   "outputs": [],
   "source": [
    "weight <- c(63, 66, 59, 70)    # height 변수에 데이터 값을 할당"
   ]
  },
  {
   "cell_type": "code",
   "execution_count": 21,
   "id": "marine-alaska",
   "metadata": {},
   "outputs": [
    {
     "data": {
      "text/html": [
       "<table>\n",
       "<thead><tr><th scope=col>name</th><th scope=col>age</th><th scope=col>height</th><th scope=col>weight</th></tr></thead>\n",
       "<tbody>\n",
       "\t<tr><td>kim </td><td>32  </td><td>170 </td><td>63  </td></tr>\n",
       "\t<tr><td>lee </td><td>25  </td><td>175 </td><td>66  </td></tr>\n",
       "\t<tr><td>choi</td><td>18  </td><td>168 </td><td>59  </td></tr>\n",
       "\t<tr><td>park</td><td>39  </td><td>180 </td><td>70  </td></tr>\n",
       "</tbody>\n",
       "</table>\n"
      ],
      "text/latex": [
       "\\begin{tabular}{r|llll}\n",
       " name & age & height & weight\\\\\n",
       "\\hline\n",
       "\t kim  & 32   & 170  & 63  \\\\\n",
       "\t lee  & 25   & 175  & 66  \\\\\n",
       "\t choi & 18   & 168  & 59  \\\\\n",
       "\t park & 39   & 180  & 70  \\\\\n",
       "\\end{tabular}\n"
      ],
      "text/markdown": [
       "\n",
       "| name | age | height | weight |\n",
       "|---|---|---|---|\n",
       "| kim  | 32   | 170  | 63   |\n",
       "| lee  | 25   | 175  | 66   |\n",
       "| choi | 18   | 168  | 59   |\n",
       "| park | 39   | 180  | 70   |\n",
       "\n"
      ],
      "text/plain": [
       "  name age height weight\n",
       "1 kim  32  170    63    \n",
       "2 lee  25  175    66    \n",
       "3 choi 18  168    59    \n",
       "4 park 39  180    70    "
      ]
     },
     "metadata": {},
     "output_type": "display_data"
    }
   ],
   "source": [
    "df<-data.frame(name,age,height,weight) # 각 변수를 묶어서 df 변수에 할당,\n",
    "\n",
    "df   # 각 변수는 열 이름이 됨,열이 지정되지 않았다면 전체를 선택한다는 의미입니다."
   ]
  },
  {
   "cell_type": "code",
   "execution_count": 24,
   "id": "million-venture",
   "metadata": {},
   "outputs": [
    {
     "data": {
      "text/html": [
       "<table>\n",
       "<thead><tr><th scope=col>name</th><th scope=col>age</th><th scope=col>height</th><th scope=col>weight</th></tr></thead>\n",
       "<tbody>\n",
       "\t<tr><td>kim</td><td>32 </td><td>170</td><td>63 </td></tr>\n",
       "</tbody>\n",
       "</table>\n"
      ],
      "text/latex": [
       "\\begin{tabular}{r|llll}\n",
       " name & age & height & weight\\\\\n",
       "\\hline\n",
       "\t kim & 32  & 170 & 63 \\\\\n",
       "\\end{tabular}\n"
      ],
      "text/markdown": [
       "\n",
       "| name | age | height | weight |\n",
       "|---|---|---|---|\n",
       "| kim | 32  | 170 | 63  |\n",
       "\n"
      ],
      "text/plain": [
       "  name age height weight\n",
       "1 kim  32  170    63    "
      ]
     },
     "metadata": {},
     "output_type": "display_data"
    },
    {
     "data": {
      "text/html": [
       "<table>\n",
       "<thead><tr><th></th><th scope=col>name</th><th scope=col>age</th><th scope=col>height</th><th scope=col>weight</th></tr></thead>\n",
       "<tbody>\n",
       "\t<tr><th scope=row>3</th><td>choi</td><td>18  </td><td>168 </td><td>59  </td></tr>\n",
       "</tbody>\n",
       "</table>\n"
      ],
      "text/latex": [
       "\\begin{tabular}{r|llll}\n",
       "  & name & age & height & weight\\\\\n",
       "\\hline\n",
       "\t3 & choi & 18   & 168  & 59  \\\\\n",
       "\\end{tabular}\n"
      ],
      "text/markdown": [
       "\n",
       "| <!--/--> | name | age | height | weight |\n",
       "|---|---|---|---|---|\n",
       "| 3 | choi | 18   | 168  | 59   |\n",
       "\n"
      ],
      "text/plain": [
       "  name age height weight\n",
       "3 choi 18  168    59    "
      ]
     },
     "metadata": {},
     "output_type": "display_data"
    },
    {
     "data": {
      "text/html": [
       "<table>\n",
       "<thead><tr><th></th><th scope=col>name</th><th scope=col>age</th><th scope=col>height</th><th scope=col>weight</th></tr></thead>\n",
       "<tbody>\n",
       "\t<tr><th scope=row>1</th><td>kim </td><td>32  </td><td>170 </td><td>63  </td></tr>\n",
       "\t<tr><th scope=row>3</th><td>choi</td><td>18  </td><td>168 </td><td>59  </td></tr>\n",
       "</tbody>\n",
       "</table>\n"
      ],
      "text/latex": [
       "\\begin{tabular}{r|llll}\n",
       "  & name & age & height & weight\\\\\n",
       "\\hline\n",
       "\t1 & kim  & 32   & 170  & 63  \\\\\n",
       "\t3 & choi & 18   & 168  & 59  \\\\\n",
       "\\end{tabular}\n"
      ],
      "text/markdown": [
       "\n",
       "| <!--/--> | name | age | height | weight |\n",
       "|---|---|---|---|---|\n",
       "| 1 | kim  | 32   | 170  | 63   |\n",
       "| 3 | choi | 18   | 168  | 59   |\n",
       "\n"
      ],
      "text/plain": [
       "  name age height weight\n",
       "1 kim  32  170    63    \n",
       "3 choi 18  168    59    "
      ]
     },
     "metadata": {},
     "output_type": "display_data"
    }
   ],
   "source": [
    "df[1,]  # 첫 번째 행을 선택\n",
    "\n",
    "df[3,]  # 세 번째 행을 선택\n",
    "\n",
    "df[c(1,3),]  # 첫 번째와 세 번째 행을 선택\n"
   ]
  },
  {
   "cell_type": "code",
   "execution_count": 26,
   "id": "sharp-westminster",
   "metadata": {},
   "outputs": [
    {
     "data": {
      "text/html": [
       "<table>\n",
       "<thead><tr><th scope=col>name</th><th scope=col>age</th><th scope=col>height</th><th scope=col>weight</th></tr></thead>\n",
       "<tbody>\n",
       "\t<tr><td>kim </td><td>32  </td><td>170 </td><td>63  </td></tr>\n",
       "\t<tr><td>lee </td><td>25  </td><td>175 </td><td>66  </td></tr>\n",
       "\t<tr><td>choi</td><td>18  </td><td>168 </td><td>59  </td></tr>\n",
       "</tbody>\n",
       "</table>\n"
      ],
      "text/latex": [
       "\\begin{tabular}{r|llll}\n",
       " name & age & height & weight\\\\\n",
       "\\hline\n",
       "\t kim  & 32   & 170  & 63  \\\\\n",
       "\t lee  & 25   & 175  & 66  \\\\\n",
       "\t choi & 18   & 168  & 59  \\\\\n",
       "\\end{tabular}\n"
      ],
      "text/markdown": [
       "\n",
       "| name | age | height | weight |\n",
       "|---|---|---|---|\n",
       "| kim  | 32   | 170  | 63   |\n",
       "| lee  | 25   | 175  | 66   |\n",
       "| choi | 18   | 168  | 59   |\n",
       "\n"
      ],
      "text/plain": [
       "  name age height weight\n",
       "1 kim  32  170    63    \n",
       "2 lee  25  175    66    \n",
       "3 choi 18  168    59    "
      ]
     },
     "metadata": {},
     "output_type": "display_data"
    },
    {
     "data": {
      "text/html": [
       "<ol class=list-inline>\n",
       "\t<li>32</li>\n",
       "\t<li>25</li>\n",
       "\t<li>18</li>\n",
       "\t<li>39</li>\n",
       "</ol>\n"
      ],
      "text/latex": [
       "\\begin{enumerate*}\n",
       "\\item 32\n",
       "\\item 25\n",
       "\\item 18\n",
       "\\item 39\n",
       "\\end{enumerate*}\n"
      ],
      "text/markdown": [
       "1. 32\n",
       "2. 25\n",
       "3. 18\n",
       "4. 39\n",
       "\n",
       "\n"
      ],
      "text/plain": [
       "[1] 32 25 18 39"
      ]
     },
     "metadata": {},
     "output_type": "display_data"
    },
    {
     "data": {
      "text/html": [
       "<table>\n",
       "<thead><tr><th scope=col>age</th></tr></thead>\n",
       "<tbody>\n",
       "\t<tr><td>32</td></tr>\n",
       "\t<tr><td>25</td></tr>\n",
       "\t<tr><td>18</td></tr>\n",
       "\t<tr><td>39</td></tr>\n",
       "</tbody>\n",
       "</table>\n"
      ],
      "text/latex": [
       "\\begin{tabular}{r|l}\n",
       " age\\\\\n",
       "\\hline\n",
       "\t 32\\\\\n",
       "\t 25\\\\\n",
       "\t 18\\\\\n",
       "\t 39\\\\\n",
       "\\end{tabular}\n"
      ],
      "text/markdown": [
       "\n",
       "| age |\n",
       "|---|\n",
       "| 32 |\n",
       "| 25 |\n",
       "| 18 |\n",
       "| 39 |\n",
       "\n"
      ],
      "text/plain": [
       "  age\n",
       "1 32 \n",
       "2 25 \n",
       "3 18 \n",
       "4 39 "
      ]
     },
     "metadata": {},
     "output_type": "display_data"
    }
   ],
   "source": [
    "df[1:3,]  # 1~3행을 선택\n",
    "\n",
    "df[,2] # 두 번째 열을 선택\n",
    "\n",
    "df[,2, drop = FALSE] # 두 번째 열을 선택, 세로를 출력"
   ]
  },
  {
   "cell_type": "code",
   "execution_count": 27,
   "id": "expanded-offense",
   "metadata": {},
   "outputs": [
    {
     "data": {
      "text/html": [
       "<table>\n",
       "<thead><tr><th></th><th scope=col>name</th><th scope=col>age</th></tr></thead>\n",
       "<tbody>\n",
       "\t<tr><th scope=row>1</th><td>kim </td><td>32  </td></tr>\n",
       "\t<tr><th scope=row>3</th><td>choi</td><td>18  </td></tr>\n",
       "</tbody>\n",
       "</table>\n"
      ],
      "text/latex": [
       "\\begin{tabular}{r|ll}\n",
       "  & name & age\\\\\n",
       "\\hline\n",
       "\t1 & kim  & 32  \\\\\n",
       "\t3 & choi & 18  \\\\\n",
       "\\end{tabular}\n"
      ],
      "text/markdown": [
       "\n",
       "| <!--/--> | name | age |\n",
       "|---|---|---|\n",
       "| 1 | kim  | 32   |\n",
       "| 3 | choi | 18   |\n",
       "\n"
      ],
      "text/plain": [
       "  name age\n",
       "1 kim  32 \n",
       "3 choi 18 "
      ]
     },
     "metadata": {},
     "output_type": "display_data"
    },
    {
     "data": {
      "text/html": [
       "25"
      ],
      "text/latex": [
       "25"
      ],
      "text/markdown": [
       "25"
      ],
      "text/plain": [
       "[1] 25"
      ]
     },
     "metadata": {},
     "output_type": "display_data"
    }
   ],
   "source": [
    "df[c(1,3),c(1,2)]  # 첫 번째와 세 번째 행, 첫 번째와 두 번째 열을 선택\n",
    "\n",
    "df[2,2] # 두 번째 행과 두 번째 열에 있는 데이터"
   ]
  },
  {
   "cell_type": "code",
   "execution_count": 35,
   "id": "likely-midnight",
   "metadata": {},
   "outputs": [
    {
     "data": {
      "text/html": [
       "<table>\n",
       "<thead><tr><th></th><th scope=col>name</th><th scope=col>age</th><th scope=col>height</th><th scope=col>weight</th></tr></thead>\n",
       "<tbody>\n",
       "\t<tr><th scope=row>one</th><td>kim </td><td>32  </td><td>170 </td><td>63  </td></tr>\n",
       "\t<tr><th scope=row>two</th><td>lee </td><td>25  </td><td>175 </td><td>66  </td></tr>\n",
       "\t<tr><th scope=row>three</th><td>choi</td><td>18  </td><td>168 </td><td>59  </td></tr>\n",
       "\t<tr><th scope=row> four</th><td>park</td><td>39  </td><td>180 </td><td>70  </td></tr>\n",
       "</tbody>\n",
       "</table>\n"
      ],
      "text/latex": [
       "\\begin{tabular}{r|llll}\n",
       "  & name & age & height & weight\\\\\n",
       "\\hline\n",
       "\tone & kim  & 32   & 170  & 63  \\\\\n",
       "\ttwo & lee  & 25   & 175  & 66  \\\\\n",
       "\tthree & choi & 18   & 168  & 59  \\\\\n",
       "\t four & park & 39   & 180  & 70  \\\\\n",
       "\\end{tabular}\n"
      ],
      "text/markdown": [
       "\n",
       "| <!--/--> | name | age | height | weight |\n",
       "|---|---|---|---|---|\n",
       "| one | kim  | 32   | 170  | 63   |\n",
       "| two | lee  | 25   | 175  | 66   |\n",
       "| three | choi | 18   | 168  | 59   |\n",
       "|  four | park | 39   | 180  | 70   |\n",
       "\n"
      ],
      "text/plain": [
       "      name age height weight\n",
       "one   kim  32  170    63    \n",
       "two   lee  25  175    66    \n",
       "three choi 18  168    59    \n",
       " four park 39  180    70    "
      ]
     },
     "metadata": {},
     "output_type": "display_data"
    }
   ],
   "source": [
    "rownames(df) <- c('one', 'two', 'three',' four')   # rownames: 행 이름을 붙이는 함수\n",
    "df"
   ]
  },
  {
   "cell_type": "code",
   "execution_count": 40,
   "id": "moral-collapse",
   "metadata": {},
   "outputs": [
    {
     "data": {
      "text/html": [
       "<table>\n",
       "<thead><tr><th></th><th scope=col>name</th><th scope=col>age</th><th scope=col>height</th><th scope=col>weight</th></tr></thead>\n",
       "<tbody>\n",
       "\t<tr><th scope=row>one</th><td>kim </td><td>32  </td><td>170 </td><td>63  </td></tr>\n",
       "\t<tr><th scope=row>three</th><td>choi</td><td>18  </td><td>168 </td><td>59  </td></tr>\n",
       "</tbody>\n",
       "</table>\n"
      ],
      "text/latex": [
       "\\begin{tabular}{r|llll}\n",
       "  & name & age & height & weight\\\\\n",
       "\\hline\n",
       "\tone & kim  & 32   & 170  & 63  \\\\\n",
       "\tthree & choi & 18   & 168  & 59  \\\\\n",
       "\\end{tabular}\n"
      ],
      "text/markdown": [
       "\n",
       "| <!--/--> | name | age | height | weight |\n",
       "|---|---|---|---|---|\n",
       "| one | kim  | 32   | 170  | 63   |\n",
       "| three | choi | 18   | 168  | 59   |\n",
       "\n"
      ],
      "text/plain": [
       "      name age height weight\n",
       "one   kim  32  170    63    \n",
       "three choi 18  168    59    "
      ]
     },
     "metadata": {},
     "output_type": "display_data"
    },
    {
     "data": {
      "text/html": [
       "<table>\n",
       "<thead><tr><th></th><th scope=col>age</th></tr></thead>\n",
       "<tbody>\n",
       "\t<tr><th scope=row>one</th><td>32</td></tr>\n",
       "\t<tr><th scope=row>two</th><td>25</td></tr>\n",
       "\t<tr><th scope=row>three</th><td>18</td></tr>\n",
       "\t<tr><th scope=row> four</th><td>39</td></tr>\n",
       "</tbody>\n",
       "</table>\n"
      ],
      "text/latex": [
       "\\begin{tabular}{r|l}\n",
       "  & age\\\\\n",
       "\\hline\n",
       "\tone & 32\\\\\n",
       "\ttwo & 25\\\\\n",
       "\tthree & 18\\\\\n",
       "\t four & 39\\\\\n",
       "\\end{tabular}\n"
      ],
      "text/markdown": [
       "\n",
       "| <!--/--> | age |\n",
       "|---|---|\n",
       "| one | 32 |\n",
       "| two | 25 |\n",
       "| three | 18 |\n",
       "|  four | 39 |\n",
       "\n"
      ],
      "text/plain": [
       "      age\n",
       "one   32 \n",
       "two   25 \n",
       "three 18 \n",
       " four 39 "
      ]
     },
     "metadata": {},
     "output_type": "display_data"
    },
    {
     "data": {
      "text/html": [
       "<table>\n",
       "<thead><tr><th></th><th scope=col>name</th><th scope=col>age</th></tr></thead>\n",
       "<tbody>\n",
       "\t<tr><th scope=row>one</th><td>kim </td><td>32  </td></tr>\n",
       "\t<tr><th scope=row>three</th><td>choi</td><td>18  </td></tr>\n",
       "</tbody>\n",
       "</table>\n"
      ],
      "text/latex": [
       "\\begin{tabular}{r|ll}\n",
       "  & name & age\\\\\n",
       "\\hline\n",
       "\tone & kim  & 32  \\\\\n",
       "\tthree & choi & 18  \\\\\n",
       "\\end{tabular}\n"
      ],
      "text/markdown": [
       "\n",
       "| <!--/--> | name | age |\n",
       "|---|---|---|\n",
       "| one | kim  | 32   |\n",
       "| three | choi | 18   |\n",
       "\n"
      ],
      "text/plain": [
       "      name age\n",
       "one   kim  32 \n",
       "three choi 18 "
      ]
     },
     "metadata": {},
     "output_type": "display_data"
    },
    {
     "data": {
      "text/html": [
       "<ol class=list-inline>\n",
       "\t<li>170</li>\n",
       "\t<li>175</li>\n",
       "\t<li>168</li>\n",
       "\t<li>180</li>\n",
       "</ol>\n"
      ],
      "text/latex": [
       "\\begin{enumerate*}\n",
       "\\item 170\n",
       "\\item 175\n",
       "\\item 168\n",
       "\\item 180\n",
       "\\end{enumerate*}\n"
      ],
      "text/markdown": [
       "1. 170\n",
       "2. 175\n",
       "3. 168\n",
       "4. 180\n",
       "\n",
       "\n"
      ],
      "text/plain": [
       "[1] 170 175 168 180"
      ]
     },
     "metadata": {},
     "output_type": "display_data"
    }
   ],
   "source": [
    "df[c('one', 'three'), ] # 1행과 3열 선택(행)\n",
    "\n",
    "df[,'age', drop = FALSE] # 나이만 선택(열)\n",
    "\n",
    "df[c('one', 'three'), c('name', 'age')] # 1행과3행의 이름, 나이를 선택\n",
    "\n",
    "df$height # ‘데이터프레임$열이름’"
   ]
  },
  {
   "cell_type": "code",
   "execution_count": 98,
   "id": "residential-syndication",
   "metadata": {},
   "outputs": [
    {
     "data": {
      "text/html": [
       "<table>\n",
       "<thead><tr><th scope=col>name</th><th scope=col>age</th><th scope=col>gender</th><th scope=col>major</th></tr></thead>\n",
       "<tbody>\n",
       "\t<tr><td>민준</td><td>22  </td><td>남  </td><td>수학</td></tr>\n",
       "\t<tr><td>유리</td><td>20  </td><td>여  </td><td>영문</td></tr>\n",
       "\t<tr><td>재희</td><td>21  </td><td>남  </td><td>경영</td></tr>\n",
       "</tbody>\n",
       "</table>\n"
      ],
      "text/latex": [
       "\\begin{tabular}{r|llll}\n",
       " name & age & gender & major\\\\\n",
       "\\hline\n",
       "\t 민준 & 22   & 남   & 수학\\\\\n",
       "\t 유리 & 20   & 여   & 영문\\\\\n",
       "\t 재희 & 21   & 남   & 경영\\\\\n",
       "\\end{tabular}\n"
      ],
      "text/markdown": [
       "\n",
       "| name | age | gender | major |\n",
       "|---|---|---|---|\n",
       "| 민준 | 22   | 남   | 수학 |\n",
       "| 유리 | 20   | 여   | 영문 |\n",
       "| 재희 | 21   | 남   | 경영 |\n",
       "\n"
      ],
      "text/plain": [
       "  name age gender major\n",
       "1 민준 22  남     수학 \n",
       "2 유리 20  여     영문 \n",
       "3 재희 21  남     경영 "
      ]
     },
     "metadata": {},
     "output_type": "display_data"
    }
   ],
   "source": [
    "# !! Quiz 1.!!  데이터 프레임 만들기\n",
    "name <- c('민준', '유리', '재희')\n",
    "age <- c(22, 20, 21)\n",
    "gender <- c('남', '여', '남')\n",
    "major <- c('수학', '영문', '경영')\n",
    "\n",
    "df <- data.frame(name, age, gender, major)\n",
    "df"
   ]
  },
  {
   "cell_type": "code",
   "execution_count": null,
   "id": "timely-thunder",
   "metadata": {},
   "outputs": [],
   "source": []
  },
  {
   "cell_type": "code",
   "execution_count": 99,
   "id": "pointed-employer",
   "metadata": {},
   "outputs": [
    {
     "data": {
      "text/html": [
       "<ol class=list-inline>\n",
       "\t<li>민준</li>\n",
       "\t<li>유리</li>\n",
       "\t<li>재희</li>\n",
       "</ol>\n",
       "\n",
       "<details>\n",
       "\t<summary style=display:list-item;cursor:pointer>\n",
       "\t\t<strong>Levels</strong>:\n",
       "\t</summary>\n",
       "\t<ol class=list-inline>\n",
       "\t\t<li>'민준'</li>\n",
       "\t\t<li>'유리'</li>\n",
       "\t\t<li>'재희'</li>\n",
       "\t</ol>\n",
       "</details>"
      ],
      "text/latex": [
       "\\begin{enumerate*}\n",
       "\\item 민준\n",
       "\\item 유리\n",
       "\\item 재희\n",
       "\\end{enumerate*}\n",
       "\n",
       "\\emph{Levels}: \\begin{enumerate*}\n",
       "\\item '민준'\n",
       "\\item '유리'\n",
       "\\item '재희'\n",
       "\\end{enumerate*}\n"
      ],
      "text/markdown": [
       "1. 민준\n",
       "2. 유리\n",
       "3. 재희\n",
       "\n",
       "\n",
       "\n",
       "**Levels**: 1. '민준'\n",
       "2. '유리'\n",
       "3. '재희'\n",
       "\n",
       "\n"
      ],
      "text/plain": [
       "[1] 민준 유리 재희\n",
       "Levels: 민준 유리 재희"
      ]
     },
     "metadata": {},
     "output_type": "display_data"
    },
    {
     "data": {
      "text/html": [
       "<ol class=list-inline>\n",
       "\t<li>22</li>\n",
       "\t<li>20</li>\n",
       "\t<li>21</li>\n",
       "</ol>\n"
      ],
      "text/latex": [
       "\\begin{enumerate*}\n",
       "\\item 22\n",
       "\\item 20\n",
       "\\item 21\n",
       "\\end{enumerate*}\n"
      ],
      "text/markdown": [
       "1. 22\n",
       "2. 20\n",
       "3. 21\n",
       "\n",
       "\n"
      ],
      "text/plain": [
       "[1] 22 20 21"
      ]
     },
     "metadata": {},
     "output_type": "display_data"
    },
    {
     "data": {
      "text/html": [
       "<ol class=list-inline>\n",
       "\t<li>남</li>\n",
       "\t<li>여</li>\n",
       "\t<li>남</li>\n",
       "</ol>\n",
       "\n",
       "<details>\n",
       "\t<summary style=display:list-item;cursor:pointer>\n",
       "\t\t<strong>Levels</strong>:\n",
       "\t</summary>\n",
       "\t<ol class=list-inline>\n",
       "\t\t<li>'남'</li>\n",
       "\t\t<li>'여'</li>\n",
       "\t</ol>\n",
       "</details>"
      ],
      "text/latex": [
       "\\begin{enumerate*}\n",
       "\\item 남\n",
       "\\item 여\n",
       "\\item 남\n",
       "\\end{enumerate*}\n",
       "\n",
       "\\emph{Levels}: \\begin{enumerate*}\n",
       "\\item '남'\n",
       "\\item '여'\n",
       "\\end{enumerate*}\n"
      ],
      "text/markdown": [
       "1. 남\n",
       "2. 여\n",
       "3. 남\n",
       "\n",
       "\n",
       "\n",
       "**Levels**: 1. '남'\n",
       "2. '여'\n",
       "\n",
       "\n"
      ],
      "text/plain": [
       "[1] 남 여 남\n",
       "Levels: 남 여"
      ]
     },
     "metadata": {},
     "output_type": "display_data"
    },
    {
     "data": {
      "text/html": [
       "<ol class=list-inline>\n",
       "\t<li>수학</li>\n",
       "\t<li>영문</li>\n",
       "\t<li>경영</li>\n",
       "</ol>\n",
       "\n",
       "<details>\n",
       "\t<summary style=display:list-item;cursor:pointer>\n",
       "\t\t<strong>Levels</strong>:\n",
       "\t</summary>\n",
       "\t<ol class=list-inline>\n",
       "\t\t<li>'경영'</li>\n",
       "\t\t<li>'수학'</li>\n",
       "\t\t<li>'영문'</li>\n",
       "\t</ol>\n",
       "</details>"
      ],
      "text/latex": [
       "\\begin{enumerate*}\n",
       "\\item 수학\n",
       "\\item 영문\n",
       "\\item 경영\n",
       "\\end{enumerate*}\n",
       "\n",
       "\\emph{Levels}: \\begin{enumerate*}\n",
       "\\item '경영'\n",
       "\\item '수학'\n",
       "\\item '영문'\n",
       "\\end{enumerate*}\n"
      ],
      "text/markdown": [
       "1. 수학\n",
       "2. 영문\n",
       "3. 경영\n",
       "\n",
       "\n",
       "\n",
       "**Levels**: 1. '경영'\n",
       "2. '수학'\n",
       "3. '영문'\n",
       "\n",
       "\n"
      ],
      "text/plain": [
       "[1] 수학 영문 경영\n",
       "Levels: 경영 수학 영문"
      ]
     },
     "metadata": {},
     "output_type": "display_data"
    }
   ],
   "source": [
    "# !! Quiz 2.!!  열 별로 전부 각각 데이터 추출하기($ 사용)\n",
    "df$name\n",
    "df$age\n",
    "df$gender\n",
    "df$major"
   ]
  },
  {
   "cell_type": "code",
   "execution_count": 100,
   "id": "electronic-registration",
   "metadata": {},
   "outputs": [
    {
     "data": {
      "text/html": [
       "<table>\n",
       "<thead><tr><th scope=col>name</th><th scope=col>age</th><th scope=col>gender</th><th scope=col>major</th></tr></thead>\n",
       "<tbody>\n",
       "\t<tr><td>민준</td><td>22  </td><td>남  </td><td>수학</td></tr>\n",
       "</tbody>\n",
       "</table>\n"
      ],
      "text/latex": [
       "\\begin{tabular}{r|llll}\n",
       " name & age & gender & major\\\\\n",
       "\\hline\n",
       "\t 민준 & 22   & 남   & 수학\\\\\n",
       "\\end{tabular}\n"
      ],
      "text/markdown": [
       "\n",
       "| name | age | gender | major |\n",
       "|---|---|---|---|\n",
       "| 민준 | 22   | 남   | 수학 |\n",
       "\n"
      ],
      "text/plain": [
       "  name age gender major\n",
       "1 민준 22  남     수학 "
      ]
     },
     "metadata": {},
     "output_type": "display_data"
    },
    {
     "data": {
      "text/html": [
       "<table>\n",
       "<thead><tr><th></th><th scope=col>name</th><th scope=col>age</th><th scope=col>gender</th><th scope=col>major</th></tr></thead>\n",
       "<tbody>\n",
       "\t<tr><th scope=row>2</th><td>유리</td><td>20  </td><td>여  </td><td>영문</td></tr>\n",
       "</tbody>\n",
       "</table>\n"
      ],
      "text/latex": [
       "\\begin{tabular}{r|llll}\n",
       "  & name & age & gender & major\\\\\n",
       "\\hline\n",
       "\t2 & 유리 & 20   & 여   & 영문\\\\\n",
       "\\end{tabular}\n"
      ],
      "text/markdown": [
       "\n",
       "| <!--/--> | name | age | gender | major |\n",
       "|---|---|---|---|---|\n",
       "| 2 | 유리 | 20   | 여   | 영문 |\n",
       "\n"
      ],
      "text/plain": [
       "  name age gender major\n",
       "2 유리 20  여     영문 "
      ]
     },
     "metadata": {},
     "output_type": "display_data"
    },
    {
     "data": {
      "text/html": [
       "<table>\n",
       "<thead><tr><th></th><th scope=col>name</th><th scope=col>age</th><th scope=col>gender</th><th scope=col>major</th></tr></thead>\n",
       "<tbody>\n",
       "\t<tr><th scope=row>3</th><td>재희</td><td>21  </td><td>남  </td><td>경영</td></tr>\n",
       "</tbody>\n",
       "</table>\n"
      ],
      "text/latex": [
       "\\begin{tabular}{r|llll}\n",
       "  & name & age & gender & major\\\\\n",
       "\\hline\n",
       "\t3 & 재희 & 21   & 남   & 경영\\\\\n",
       "\\end{tabular}\n"
      ],
      "text/markdown": [
       "\n",
       "| <!--/--> | name | age | gender | major |\n",
       "|---|---|---|---|---|\n",
       "| 3 | 재희 | 21   | 남   | 경영 |\n",
       "\n"
      ],
      "text/plain": [
       "  name age gender major\n",
       "3 재희 21  남     경영 "
      ]
     },
     "metadata": {},
     "output_type": "display_data"
    }
   ],
   "source": [
    "# !! Quiz 3. !! 행 별로 전부 각각 데이터 추출하기\n",
    "\n",
    "df[1,]\n",
    "\n",
    "df[2,]\n",
    "\n",
    "df[3,]"
   ]
  },
  {
   "cell_type": "code",
   "execution_count": 101,
   "id": "emerging-graphics",
   "metadata": {},
   "outputs": [
    {
     "data": {
      "text/html": [
       "<table>\n",
       "<thead><tr><th></th><th scope=col>name</th><th scope=col>age</th><th scope=col>gender</th><th scope=col>major</th></tr></thead>\n",
       "<tbody>\n",
       "\t<tr><th scope=row>2</th><td>유리</td><td>20  </td><td>여  </td><td>영문</td></tr>\n",
       "\t<tr><th scope=row>3</th><td>재희</td><td>21  </td><td>남  </td><td>경영</td></tr>\n",
       "</tbody>\n",
       "</table>\n"
      ],
      "text/latex": [
       "\\begin{tabular}{r|llll}\n",
       "  & name & age & gender & major\\\\\n",
       "\\hline\n",
       "\t2 & 유리 & 20   & 여   & 영문\\\\\n",
       "\t3 & 재희 & 21   & 남   & 경영\\\\\n",
       "\\end{tabular}\n"
      ],
      "text/markdown": [
       "\n",
       "| <!--/--> | name | age | gender | major |\n",
       "|---|---|---|---|---|\n",
       "| 2 | 유리 | 20   | 여   | 영문 |\n",
       "| 3 | 재희 | 21   | 남   | 경영 |\n",
       "\n"
      ],
      "text/plain": [
       "  name age gender major\n",
       "2 유리 20  여     영문 \n",
       "3 재희 21  남     경영 "
      ]
     },
     "metadata": {},
     "output_type": "display_data"
    }
   ],
   "source": [
    "# !! Quiz 4. !! 유리와 재희의 정보만 추출하기\n",
    "df[c(2,3),]"
   ]
  },
  {
   "cell_type": "code",
   "execution_count": 102,
   "id": "classical-hepatitis",
   "metadata": {},
   "outputs": [
    {
     "data": {
      "text/html": [
       "<ol class=list-inline>\n",
       "\t<li>22</li>\n",
       "\t<li>20</li>\n",
       "\t<li>21</li>\n",
       "</ol>\n"
      ],
      "text/latex": [
       "\\begin{enumerate*}\n",
       "\\item 22\n",
       "\\item 20\n",
       "\\item 21\n",
       "\\end{enumerate*}\n"
      ],
      "text/markdown": [
       "1. 22\n",
       "2. 20\n",
       "3. 21\n",
       "\n",
       "\n"
      ],
      "text/plain": [
       "[1] 22 20 21"
      ]
     },
     "metadata": {},
     "output_type": "display_data"
    },
    {
     "data": {
      "text/html": [
       "<ol class=list-inline>\n",
       "\t<li>남</li>\n",
       "\t<li>여</li>\n",
       "\t<li>남</li>\n",
       "</ol>\n",
       "\n",
       "<details>\n",
       "\t<summary style=display:list-item;cursor:pointer>\n",
       "\t\t<strong>Levels</strong>:\n",
       "\t</summary>\n",
       "\t<ol class=list-inline>\n",
       "\t\t<li>'남'</li>\n",
       "\t\t<li>'여'</li>\n",
       "\t</ol>\n",
       "</details>"
      ],
      "text/latex": [
       "\\begin{enumerate*}\n",
       "\\item 남\n",
       "\\item 여\n",
       "\\item 남\n",
       "\\end{enumerate*}\n",
       "\n",
       "\\emph{Levels}: \\begin{enumerate*}\n",
       "\\item '남'\n",
       "\\item '여'\n",
       "\\end{enumerate*}\n"
      ],
      "text/markdown": [
       "1. 남\n",
       "2. 여\n",
       "3. 남\n",
       "\n",
       "\n",
       "\n",
       "**Levels**: 1. '남'\n",
       "2. '여'\n",
       "\n",
       "\n"
      ],
      "text/plain": [
       "[1] 남 여 남\n",
       "Levels: 남 여"
      ]
     },
     "metadata": {},
     "output_type": "display_data"
    }
   ],
   "source": [
    "# !! Quiz 5. !! 나이와 성별의 정보만 추출하기 ($ 사용)\n",
    "df$age\n",
    "\n",
    "df$gender"
   ]
  },
  {
   "cell_type": "code",
   "execution_count": 103,
   "id": "documented-novelty",
   "metadata": {},
   "outputs": [
    {
     "data": {
      "text/html": [
       "21"
      ],
      "text/latex": [
       "21"
      ],
      "text/markdown": [
       "21"
      ],
      "text/plain": [
       "[1] 21"
      ]
     },
     "metadata": {},
     "output_type": "display_data"
    }
   ],
   "source": [
    "# !! Quiz 6. !! 나이의 평균\n",
    "age <- c(22, 20, 21)\n",
    "mean(age)"
   ]
  },
  {
   "cell_type": "code",
   "execution_count": 113,
   "id": "increased-ecuador",
   "metadata": {},
   "outputs": [
    {
     "ename": "ERROR",
     "evalue": "Error in Summary.factor(structure(c(1L, 2L, 1L), .Label = c(\"남\", \"여\": 'sum' not meaningful for factors\n",
     "output_type": "error",
     "traceback": [
      "Error in Summary.factor(structure(c(1L, 2L, 1L), .Label = c(\"남\", \"여\": 'sum' not meaningful for factors\nTraceback:\n",
      "1. Summary.factor(structure(c(1L, 2L, 1L), .Label = c(\"남\", \"여\"\n . ), class = \"factor\"), na.rm = FALSE)",
      "2. stop(gettextf(\"%s not meaningful for factors\", sQuote(.Generic)))"
     ]
    }
   ],
   "source": [
    "# !! Quiz 6. !! 성별의 인원수\n",
    "gender <- c('남', '여', '남')\n",
    "sum(df$gender)"
   ]
  },
  {
   "cell_type": "code",
   "execution_count": null,
   "id": "computational-mandate",
   "metadata": {},
   "outputs": [],
   "source": []
  },
  {
   "cell_type": "code",
   "execution_count": null,
   "id": "pediatric-affair",
   "metadata": {},
   "outputs": [],
   "source": []
  },
  {
   "cell_type": "code",
   "execution_count": null,
   "id": "rural-grill",
   "metadata": {},
   "outputs": [],
   "source": []
  },
  {
   "cell_type": "code",
   "execution_count": null,
   "id": "identified-latin",
   "metadata": {},
   "outputs": [],
   "source": []
  },
  {
   "cell_type": "code",
   "execution_count": null,
   "id": "metric-friendship",
   "metadata": {},
   "outputs": [],
   "source": []
  },
  {
   "cell_type": "code",
   "execution_count": null,
   "id": "capable-retrieval",
   "metadata": {},
   "outputs": [],
   "source": []
  },
  {
   "cell_type": "code",
   "execution_count": null,
   "id": "nonprofit-beast",
   "metadata": {},
   "outputs": [],
   "source": []
  },
  {
   "cell_type": "code",
   "execution_count": null,
   "id": "nominated-orientation",
   "metadata": {},
   "outputs": [],
   "source": []
  },
  {
   "cell_type": "code",
   "execution_count": null,
   "id": "novel-copper",
   "metadata": {},
   "outputs": [],
   "source": []
  },
  {
   "cell_type": "code",
   "execution_count": null,
   "id": "domestic-merit",
   "metadata": {},
   "outputs": [],
   "source": []
  },
  {
   "cell_type": "code",
   "execution_count": null,
   "id": "laughing-definition",
   "metadata": {},
   "outputs": [],
   "source": []
  },
  {
   "cell_type": "code",
   "execution_count": null,
   "id": "small-authentication",
   "metadata": {},
   "outputs": [],
   "source": []
  },
  {
   "cell_type": "code",
   "execution_count": null,
   "id": "metric-veteran",
   "metadata": {},
   "outputs": [],
   "source": []
  },
  {
   "cell_type": "code",
   "execution_count": null,
   "id": "present-terrorism",
   "metadata": {},
   "outputs": [],
   "source": []
  },
  {
   "cell_type": "code",
   "execution_count": null,
   "id": "amino-cuisine",
   "metadata": {},
   "outputs": [],
   "source": []
  },
  {
   "cell_type": "code",
   "execution_count": null,
   "id": "reflected-finding",
   "metadata": {},
   "outputs": [],
   "source": []
  },
  {
   "cell_type": "code",
   "execution_count": null,
   "id": "legendary-setting",
   "metadata": {},
   "outputs": [],
   "source": []
  },
  {
   "cell_type": "code",
   "execution_count": null,
   "id": "norman-jurisdiction",
   "metadata": {},
   "outputs": [],
   "source": []
  },
  {
   "cell_type": "code",
   "execution_count": null,
   "id": "dramatic-escape",
   "metadata": {},
   "outputs": [],
   "source": []
  },
  {
   "cell_type": "code",
   "execution_count": null,
   "id": "alternate-boxing",
   "metadata": {},
   "outputs": [],
   "source": []
  },
  {
   "cell_type": "code",
   "execution_count": null,
   "id": "italian-belgium",
   "metadata": {},
   "outputs": [],
   "source": []
  },
  {
   "cell_type": "code",
   "execution_count": null,
   "id": "human-harrison",
   "metadata": {},
   "outputs": [],
   "source": []
  },
  {
   "cell_type": "code",
   "execution_count": null,
   "id": "corresponding-castle",
   "metadata": {},
   "outputs": [],
   "source": []
  },
  {
   "cell_type": "code",
   "execution_count": null,
   "id": "gross-stanley",
   "metadata": {},
   "outputs": [],
   "source": []
  },
  {
   "cell_type": "code",
   "execution_count": null,
   "id": "brief-fight",
   "metadata": {},
   "outputs": [],
   "source": []
  },
  {
   "cell_type": "code",
   "execution_count": null,
   "id": "scientific-crystal",
   "metadata": {},
   "outputs": [],
   "source": []
  },
  {
   "cell_type": "code",
   "execution_count": null,
   "id": "particular-offset",
   "metadata": {},
   "outputs": [],
   "source": []
  },
  {
   "cell_type": "code",
   "execution_count": null,
   "id": "august-poetry",
   "metadata": {},
   "outputs": [],
   "source": []
  },
  {
   "cell_type": "code",
   "execution_count": null,
   "id": "dirty-australia",
   "metadata": {},
   "outputs": [],
   "source": []
  },
  {
   "cell_type": "code",
   "execution_count": null,
   "id": "every-tourism",
   "metadata": {},
   "outputs": [],
   "source": []
  },
  {
   "cell_type": "code",
   "execution_count": null,
   "id": "religious-remainder",
   "metadata": {},
   "outputs": [],
   "source": []
  },
  {
   "cell_type": "code",
   "execution_count": null,
   "id": "attended-petite",
   "metadata": {},
   "outputs": [],
   "source": []
  },
  {
   "cell_type": "code",
   "execution_count": null,
   "id": "accredited-girlfriend",
   "metadata": {},
   "outputs": [],
   "source": []
  },
  {
   "cell_type": "code",
   "execution_count": null,
   "id": "monthly-space",
   "metadata": {},
   "outputs": [],
   "source": []
  },
  {
   "cell_type": "code",
   "execution_count": null,
   "id": "controlled-underwear",
   "metadata": {},
   "outputs": [],
   "source": []
  },
  {
   "cell_type": "code",
   "execution_count": null,
   "id": "gentle-algeria",
   "metadata": {},
   "outputs": [],
   "source": []
  },
  {
   "cell_type": "code",
   "execution_count": null,
   "id": "female-championship",
   "metadata": {},
   "outputs": [],
   "source": []
  },
  {
   "cell_type": "code",
   "execution_count": null,
   "id": "above-jacket",
   "metadata": {},
   "outputs": [],
   "source": []
  },
  {
   "cell_type": "code",
   "execution_count": null,
   "id": "planned-maryland",
   "metadata": {},
   "outputs": [],
   "source": []
  },
  {
   "cell_type": "code",
   "execution_count": null,
   "id": "sealed-detail",
   "metadata": {},
   "outputs": [],
   "source": []
  },
  {
   "cell_type": "code",
   "execution_count": null,
   "id": "according-longer",
   "metadata": {},
   "outputs": [],
   "source": []
  },
  {
   "cell_type": "code",
   "execution_count": null,
   "id": "minor-ground",
   "metadata": {},
   "outputs": [],
   "source": []
  },
  {
   "cell_type": "code",
   "execution_count": null,
   "id": "confident-presentation",
   "metadata": {},
   "outputs": [],
   "source": []
  },
  {
   "cell_type": "code",
   "execution_count": null,
   "id": "political-catalyst",
   "metadata": {},
   "outputs": [],
   "source": []
  },
  {
   "cell_type": "code",
   "execution_count": null,
   "id": "federal-crowd",
   "metadata": {},
   "outputs": [],
   "source": []
  },
  {
   "cell_type": "code",
   "execution_count": null,
   "id": "floating-serbia",
   "metadata": {},
   "outputs": [],
   "source": []
  },
  {
   "cell_type": "code",
   "execution_count": null,
   "id": "pregnant-moral",
   "metadata": {},
   "outputs": [],
   "source": []
  },
  {
   "cell_type": "code",
   "execution_count": null,
   "id": "terminal-disabled",
   "metadata": {},
   "outputs": [],
   "source": []
  },
  {
   "cell_type": "code",
   "execution_count": null,
   "id": "light-athens",
   "metadata": {},
   "outputs": [],
   "source": []
  },
  {
   "cell_type": "code",
   "execution_count": null,
   "id": "female-injection",
   "metadata": {},
   "outputs": [],
   "source": []
  },
  {
   "cell_type": "code",
   "execution_count": null,
   "id": "interracial-failure",
   "metadata": {},
   "outputs": [],
   "source": []
  },
  {
   "cell_type": "code",
   "execution_count": null,
   "id": "authentic-parameter",
   "metadata": {},
   "outputs": [],
   "source": []
  },
  {
   "cell_type": "code",
   "execution_count": null,
   "id": "israeli-winter",
   "metadata": {},
   "outputs": [],
   "source": []
  },
  {
   "cell_type": "code",
   "execution_count": null,
   "id": "incident-orchestra",
   "metadata": {},
   "outputs": [],
   "source": []
  },
  {
   "cell_type": "code",
   "execution_count": null,
   "id": "negative-devil",
   "metadata": {},
   "outputs": [],
   "source": []
  },
  {
   "cell_type": "code",
   "execution_count": null,
   "id": "reverse-visibility",
   "metadata": {},
   "outputs": [],
   "source": []
  },
  {
   "cell_type": "code",
   "execution_count": null,
   "id": "killing-nerve",
   "metadata": {},
   "outputs": [],
   "source": []
  },
  {
   "cell_type": "code",
   "execution_count": null,
   "id": "balanced-prediction",
   "metadata": {},
   "outputs": [],
   "source": []
  },
  {
   "cell_type": "code",
   "execution_count": null,
   "id": "polish-framework",
   "metadata": {},
   "outputs": [],
   "source": []
  },
  {
   "cell_type": "code",
   "execution_count": null,
   "id": "legendary-affair",
   "metadata": {},
   "outputs": [],
   "source": []
  },
  {
   "cell_type": "code",
   "execution_count": null,
   "id": "daily-virtue",
   "metadata": {},
   "outputs": [],
   "source": []
  },
  {
   "cell_type": "code",
   "execution_count": null,
   "id": "worth-forty",
   "metadata": {},
   "outputs": [],
   "source": []
  },
  {
   "cell_type": "code",
   "execution_count": null,
   "id": "given-sydney",
   "metadata": {},
   "outputs": [],
   "source": []
  },
  {
   "cell_type": "code",
   "execution_count": null,
   "id": "retired-gnome",
   "metadata": {},
   "outputs": [],
   "source": []
  },
  {
   "cell_type": "code",
   "execution_count": null,
   "id": "automatic-change",
   "metadata": {},
   "outputs": [],
   "source": []
  },
  {
   "cell_type": "code",
   "execution_count": null,
   "id": "moral-bolivia",
   "metadata": {},
   "outputs": [],
   "source": []
  },
  {
   "cell_type": "code",
   "execution_count": null,
   "id": "manual-airplane",
   "metadata": {},
   "outputs": [],
   "source": []
  },
  {
   "cell_type": "code",
   "execution_count": null,
   "id": "veterinary-recovery",
   "metadata": {},
   "outputs": [],
   "source": []
  },
  {
   "cell_type": "code",
   "execution_count": null,
   "id": "mounted-facility",
   "metadata": {},
   "outputs": [],
   "source": []
  },
  {
   "cell_type": "code",
   "execution_count": null,
   "id": "accurate-entrepreneur",
   "metadata": {},
   "outputs": [],
   "source": []
  },
  {
   "cell_type": "code",
   "execution_count": null,
   "id": "configured-retirement",
   "metadata": {},
   "outputs": [],
   "source": []
  },
  {
   "cell_type": "code",
   "execution_count": null,
   "id": "after-subdivision",
   "metadata": {},
   "outputs": [],
   "source": []
  },
  {
   "cell_type": "code",
   "execution_count": null,
   "id": "bound-american",
   "metadata": {},
   "outputs": [],
   "source": []
  },
  {
   "cell_type": "code",
   "execution_count": null,
   "id": "labeled-interim",
   "metadata": {},
   "outputs": [],
   "source": []
  },
  {
   "cell_type": "code",
   "execution_count": null,
   "id": "metallic-spirit",
   "metadata": {},
   "outputs": [],
   "source": []
  },
  {
   "cell_type": "code",
   "execution_count": null,
   "id": "dried-softball",
   "metadata": {},
   "outputs": [],
   "source": []
  },
  {
   "cell_type": "code",
   "execution_count": null,
   "id": "affiliated-cooking",
   "metadata": {},
   "outputs": [],
   "source": []
  },
  {
   "cell_type": "code",
   "execution_count": null,
   "id": "infectious-dominant",
   "metadata": {},
   "outputs": [],
   "source": []
  },
  {
   "cell_type": "code",
   "execution_count": null,
   "id": "robust-dealing",
   "metadata": {},
   "outputs": [],
   "source": []
  }
 ],
 "metadata": {
  "kernelspec": {
   "display_name": "R",
   "language": "R",
   "name": "ir"
  },
  "language_info": {
   "codemirror_mode": "r",
   "file_extension": ".r",
   "mimetype": "text/x-r-source",
   "name": "R",
   "pygments_lexer": "r",
   "version": "3.6.1"
  }
 },
 "nbformat": 4,
 "nbformat_minor": 5
}
