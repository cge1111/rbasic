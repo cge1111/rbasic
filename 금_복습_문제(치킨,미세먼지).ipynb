{
 "cells": [
  {
   "cell_type": "code",
   "execution_count": null,
   "id": "tender-kelly",
   "metadata": {},
   "outputs": [],
   "source": [
    "# 치킨집이 가장 많은 지역 찾기\n",
    "# 그림의 크기로 지역을 표현"
   ]
  },
  {
   "cell_type": "code",
   "execution_count": null,
   "id": "particular-contact",
   "metadata": {},
   "outputs": [],
   "source": [
    "# 치킨집 데이터 구하기\n",
    "# www.localdata.kr"
   ]
  },
  {
   "cell_type": "code",
   "execution_count": 1,
   "id": "fifteen-fellowship",
   "metadata": {},
   "outputs": [
    {
     "name": "stderr",
     "output_type": "stream",
     "text": [
      "Warning message:\n",
      "\"package 'readxl' was built under R version 3.6.3\""
     ]
    }
   ],
   "source": [
    "# 데이터 읽어오기\n",
    "library(\"readxl\")"
   ]
  },
  {
   "cell_type": "code",
   "execution_count": 2,
   "id": "essential-polls",
   "metadata": {},
   "outputs": [],
   "source": [
    "ck <- read_excel(\"치킨집_가공.xlsx\")"
   ]
  },
  {
   "cell_type": "code",
   "execution_count": 3,
   "id": "executed-sussex",
   "metadata": {},
   "outputs": [
    {
     "data": {
      "text/html": [
       "<table>\n",
       "<thead><tr><th scope=col>소재지전체주소</th><th scope=col>사업장명</th></tr></thead>\n",
       "<tbody>\n",
       "\t<tr><td>서울특별시 서대문구 창천동 52-20번지 2층                    </td><td>쪼리375                                                     </td></tr>\n",
       "\t<tr><td>서울특별시 서대문구 창천동 53-83번지 (지상1층)              </td><td>고향                                                        </td></tr>\n",
       "\t<tr><td>서울특별시 서대문구 창천동 53-3번지 2층                     </td><td>찬수씨, 싼술을부탁해                                        </td></tr>\n",
       "\t<tr><td>서울특별시 서대문구 남가좌동 377번지 삼성아파트 상가동 101호</td><td>케리홈치킨                                                  </td></tr>\n",
       "\t<tr><td>서울특별시 서대문구 연희동 134-28번지 지하1층               </td><td>연희38애비뉴                                                </td></tr>\n",
       "\t<tr><td>서울특별시 서대문구 창천동 62-53번지 1층 일부               </td><td>닭꼬치야                                                    </td></tr>\n",
       "</tbody>\n",
       "</table>\n"
      ],
      "text/latex": [
       "\\begin{tabular}{r|ll}\n",
       " 소재지전체주소 & 사업장명\\\\\n",
       "\\hline\n",
       "\t 서울특별시 서대문구 창천동 52-20번지 2층                     & 쪼리375                                                     \\\\\n",
       "\t 서울특별시 서대문구 창천동 53-83번지 (지상1층)               & 고향                                                        \\\\\n",
       "\t 서울특별시 서대문구 창천동 53-3번지 2층                      & 찬수씨, 싼술을부탁해                                        \\\\\n",
       "\t 서울특별시 서대문구 남가좌동 377번지 삼성아파트 상가동 101호 & 케리홈치킨                                                  \\\\\n",
       "\t 서울특별시 서대문구 연희동 134-28번지 지하1층                & 연희38애비뉴                                                \\\\\n",
       "\t 서울특별시 서대문구 창천동 62-53번지 1층 일부                & 닭꼬치야                                                    \\\\\n",
       "\\end{tabular}\n"
      ],
      "text/markdown": [
       "\n",
       "| 소재지전체주소 | 사업장명 |\n",
       "|---|---|\n",
       "| 서울특별시 서대문구 창천동 52-20번지 2층                     | 쪼리375                                                      |\n",
       "| 서울특별시 서대문구 창천동 53-83번지 (지상1층)               | 고향                                                         |\n",
       "| 서울특별시 서대문구 창천동 53-3번지 2층                      | 찬수씨, 싼술을부탁해                                         |\n",
       "| 서울특별시 서대문구 남가좌동 377번지 삼성아파트 상가동 101호 | 케리홈치킨                                                   |\n",
       "| 서울특별시 서대문구 연희동 134-28번지 지하1층                | 연희38애비뉴                                                 |\n",
       "| 서울특별시 서대문구 창천동 62-53번지 1층 일부                | 닭꼬치야                                                     |\n",
       "\n"
      ],
      "text/plain": [
       "  소재지전체주소                                              \n",
       "1 서울특별시 서대문구 창천동 52-20번지 2층                    \n",
       "2 서울특별시 서대문구 창천동 53-83번지 (지상1층)              \n",
       "3 서울특별시 서대문구 창천동 53-3번지 2층                     \n",
       "4 서울특별시 서대문구 남가좌동 377번지 삼성아파트 상가동 101호\n",
       "5 서울특별시 서대문구 연희동 134-28번지 지하1층               \n",
       "6 서울특별시 서대문구 창천동 62-53번지 1층 일부               \n",
       "  사업장명            \n",
       "1 쪼리375             \n",
       "2 고향                \n",
       "3 찬수씨, 싼술을부탁해\n",
       "4 케리홈치킨          \n",
       "5 연희38애비뉴        \n",
       "6 닭꼬치야            "
      ]
     },
     "metadata": {},
     "output_type": "display_data"
    }
   ],
   "source": [
    "head(ck)"
   ]
  },
  {
   "cell_type": "code",
   "execution_count": 4,
   "id": "interpreted-solution",
   "metadata": {},
   "outputs": [],
   "source": [
    "# 동별로 추출해서 상세주소는 제거 substr()를 사용하여 동까지만 남기고 나머지 삭제\n",
    "addr <- substr(ck$'소재지전체주소', 11, 16)"
   ]
  },
  {
   "cell_type": "code",
   "execution_count": 5,
   "id": "looking-diameter",
   "metadata": {},
   "outputs": [
    {
     "data": {
      "text/html": [
       "<ol class=list-inline>\n",
       "\t<li>' 창천동 5'</li>\n",
       "\t<li>' 창천동 5'</li>\n",
       "\t<li>' 창천동 5'</li>\n",
       "\t<li>' 남가좌동 '</li>\n",
       "\t<li>' 연희동 1'</li>\n",
       "\t<li>' 창천동 6'</li>\n",
       "</ol>\n"
      ],
      "text/latex": [
       "\\begin{enumerate*}\n",
       "\\item ' 창천동 5'\n",
       "\\item ' 창천동 5'\n",
       "\\item ' 창천동 5'\n",
       "\\item ' 남가좌동 '\n",
       "\\item ' 연희동 1'\n",
       "\\item ' 창천동 6'\n",
       "\\end{enumerate*}\n"
      ],
      "text/markdown": [
       "1. ' 창천동 5'\n",
       "2. ' 창천동 5'\n",
       "3. ' 창천동 5'\n",
       "4. ' 남가좌동 '\n",
       "5. ' 연희동 1'\n",
       "6. ' 창천동 6'\n",
       "\n",
       "\n"
      ],
      "text/plain": [
       "[1] \" 창천동 5\"  \" 창천동 5\"  \" 창천동 5\"  \" 남가좌동 \" \" 연희동 1\" \n",
       "[6] \" 창천동 6\" "
      ]
     },
     "metadata": {},
     "output_type": "display_data"
    }
   ],
   "source": [
    "head(addr)"
   ]
  },
  {
   "cell_type": "code",
   "execution_count": 6,
   "id": "adapted-pixel",
   "metadata": {},
   "outputs": [
    {
     "data": {
      "text/html": [
       "<ol class=list-inline>\n",
       "\t<li>' 창천동 '</li>\n",
       "\t<li>' 창천동 '</li>\n",
       "\t<li>' 창천동 '</li>\n",
       "\t<li>' 남가좌동 '</li>\n",
       "\t<li>' 연희동 '</li>\n",
       "\t<li>' 창천동 '</li>\n",
       "</ol>\n"
      ],
      "text/latex": [
       "\\begin{enumerate*}\n",
       "\\item ' 창천동 '\n",
       "\\item ' 창천동 '\n",
       "\\item ' 창천동 '\n",
       "\\item ' 남가좌동 '\n",
       "\\item ' 연희동 '\n",
       "\\item ' 창천동 '\n",
       "\\end{enumerate*}\n"
      ],
      "text/markdown": [
       "1. ' 창천동 '\n",
       "2. ' 창천동 '\n",
       "3. ' 창천동 '\n",
       "4. ' 남가좌동 '\n",
       "5. ' 연희동 '\n",
       "6. ' 창천동 '\n",
       "\n",
       "\n"
      ],
      "text/plain": [
       "[1] \" 창천동 \"   \" 창천동 \"   \" 창천동 \"   \" 남가좌동 \" \" 연희동 \"  \n",
       "[6] \" 창천동 \"  "
      ]
     },
     "metadata": {},
     "output_type": "display_data"
    }
   ],
   "source": [
    "# 숫자들과 공백을 모두 삭제\n",
    "# gsub() 함수를 사용하여 제거\n",
    "\n",
    "addr_num <- gsub(\"[0-9]\",\"\",addr) # gsub(찾을값, 바꿀값, 어디에)\n",
    "\n",
    "head(addr_num)"
   ]
  },
  {
   "cell_type": "code",
   "execution_count": 9,
   "id": "civic-delaware",
   "metadata": {},
   "outputs": [
    {
     "data": {
      "text/html": [
       "<ol class=list-inline>\n",
       "\t<li>'창천동'</li>\n",
       "\t<li>'창천동'</li>\n",
       "\t<li>'창천동'</li>\n",
       "\t<li>'남가좌동'</li>\n",
       "\t<li>'연희동'</li>\n",
       "\t<li>'창천동'</li>\n",
       "</ol>\n"
      ],
      "text/latex": [
       "\\begin{enumerate*}\n",
       "\\item '창천동'\n",
       "\\item '창천동'\n",
       "\\item '창천동'\n",
       "\\item '남가좌동'\n",
       "\\item '연희동'\n",
       "\\item '창천동'\n",
       "\\end{enumerate*}\n"
      ],
      "text/markdown": [
       "1. '창천동'\n",
       "2. '창천동'\n",
       "3. '창천동'\n",
       "4. '남가좌동'\n",
       "5. '연희동'\n",
       "6. '창천동'\n",
       "\n",
       "\n"
      ],
      "text/plain": [
       "[1] \"창천동\"   \"창천동\"   \"창천동\"   \"남가좌동\" \"연희동\"   \"창천동\"  "
      ]
     },
     "metadata": {},
     "output_type": "display_data"
    }
   ],
   "source": [
    "# 여백 모두 삭제\n",
    "# gsub() 함수를 사용하여 제거\n",
    "\n",
    "addr_trim <- gsub(\" \",\"\",addr_num)\n",
    "\n",
    "head(addr_trim)"
   ]
  },
  {
   "cell_type": "code",
   "execution_count": 11,
   "id": "temporal-degree",
   "metadata": {},
   "outputs": [
    {
     "name": "stderr",
     "output_type": "stream",
     "text": [
      "Warning message:\n",
      "\"package 'dplyr' was built under R version 3.6.3\"\n",
      "Attaching package: 'dplyr'\n",
      "\n",
      "The following objects are masked from 'package:stats':\n",
      "\n",
      "    filter, lag\n",
      "\n",
      "The following objects are masked from 'package:base':\n",
      "\n",
      "    intersect, setdiff, setequal, union\n",
      "\n"
     ]
    }
   ],
   "source": [
    "library(dplyr)"
   ]
  },
  {
   "cell_type": "code",
   "execution_count": 14,
   "id": "flexible-owner",
   "metadata": {},
   "outputs": [
    {
     "data": {
      "text/html": [
       "<table>\n",
       "<thead><tr><th scope=col>.</th><th scope=col>Freq</th></tr></thead>\n",
       "<tbody>\n",
       "\t<tr><td>남가좌동</td><td>282     </td></tr>\n",
       "\t<tr><td>냉천동  </td><td> 24     </td></tr>\n",
       "\t<tr><td>대신동  </td><td>  3     </td></tr>\n",
       "\t<tr><td>대현동  </td><td> 69     </td></tr>\n",
       "\t<tr><td>미근동  </td><td>  6     </td></tr>\n",
       "\t<tr><td>북가좌동</td><td>155     </td></tr>\n",
       "</tbody>\n",
       "</table>\n"
      ],
      "text/latex": [
       "\\begin{tabular}{r|ll}\n",
       " . & Freq\\\\\n",
       "\\hline\n",
       "\t 남가좌동 & 282     \\\\\n",
       "\t 냉천동   &  24     \\\\\n",
       "\t 대신동   &   3     \\\\\n",
       "\t 대현동   &  69     \\\\\n",
       "\t 미근동   &   6     \\\\\n",
       "\t 북가좌동 & 155     \\\\\n",
       "\\end{tabular}\n"
      ],
      "text/markdown": [
       "\n",
       "| . | Freq |\n",
       "|---|---|\n",
       "| 남가좌동 | 282      |\n",
       "| 냉천동   |  24      |\n",
       "| 대신동   |   3      |\n",
       "| 대현동   |  69      |\n",
       "| 미근동   |   6      |\n",
       "| 북가좌동 | 155      |\n",
       "\n"
      ],
      "text/plain": [
       "  .        Freq\n",
       "1 남가좌동 282 \n",
       "2 냉천동    24 \n",
       "3 대신동     3 \n",
       "4 대현동    69 \n",
       "5 미근동     6 \n",
       "6 북가좌동 155 "
      ]
     },
     "metadata": {},
     "output_type": "display_data"
    }
   ],
   "source": [
    "# 동별 업소 개수 확인하기\n",
    "# 변수의 개수 확인을 위해 table()함수 사용\n",
    "\n",
    "addr_count <- addr_trim  %>% table() %>% data.frame()\n",
    "\n",
    "head(addr_count)"
   ]
  },
  {
   "cell_type": "code",
   "execution_count": 16,
   "id": "floating-choir",
   "metadata": {},
   "outputs": [
    {
     "data": {
      "text/html": [
       "<table>\n",
       "<thead><tr><th scope=col>.</th><th scope=col>Freq</th></tr></thead>\n",
       "<tbody>\n",
       "\t<tr><td>남가좌동</td><td>282     </td></tr>\n",
       "\t<tr><td>냉천동  </td><td> 24     </td></tr>\n",
       "\t<tr><td>대신동  </td><td>  3     </td></tr>\n",
       "\t<tr><td>대현동  </td><td> 69     </td></tr>\n",
       "\t<tr><td>미근동  </td><td>  6     </td></tr>\n",
       "\t<tr><td>북가좌동</td><td>155     </td></tr>\n",
       "\t<tr><td>북아현동</td><td> 45     </td></tr>\n",
       "\t<tr><td>신촌동  </td><td>  2     </td></tr>\n",
       "\t<tr><td>연희동  </td><td>104     </td></tr>\n",
       "\t<tr><td>영천동  </td><td> 15     </td></tr>\n",
       "\t<tr><td>옥천동  </td><td>  3     </td></tr>\n",
       "\t<tr><td>창천동  </td><td>395     </td></tr>\n",
       "\t<tr><td>천연동  </td><td>  3     </td></tr>\n",
       "\t<tr><td>충정로가</td><td> 48     </td></tr>\n",
       "\t<tr><td>합동    </td><td>  2     </td></tr>\n",
       "\t<tr><td>홍은동  </td><td>150     </td></tr>\n",
       "\t<tr><td>홍제동  </td><td>209     </td></tr>\n",
       "</tbody>\n",
       "</table>\n"
      ],
      "text/latex": [
       "\\begin{tabular}{r|ll}\n",
       " . & Freq\\\\\n",
       "\\hline\n",
       "\t 남가좌동 & 282     \\\\\n",
       "\t 냉천동   &  24     \\\\\n",
       "\t 대신동   &   3     \\\\\n",
       "\t 대현동   &  69     \\\\\n",
       "\t 미근동   &   6     \\\\\n",
       "\t 북가좌동 & 155     \\\\\n",
       "\t 북아현동 &  45     \\\\\n",
       "\t 신촌동   &   2     \\\\\n",
       "\t 연희동   & 104     \\\\\n",
       "\t 영천동   &  15     \\\\\n",
       "\t 옥천동   &   3     \\\\\n",
       "\t 창천동   & 395     \\\\\n",
       "\t 천연동   &   3     \\\\\n",
       "\t 충정로가 &  48     \\\\\n",
       "\t 합동     &   2     \\\\\n",
       "\t 홍은동   & 150     \\\\\n",
       "\t 홍제동   & 209     \\\\\n",
       "\\end{tabular}\n"
      ],
      "text/markdown": [
       "\n",
       "| . | Freq |\n",
       "|---|---|\n",
       "| 남가좌동 | 282      |\n",
       "| 냉천동   |  24      |\n",
       "| 대신동   |   3      |\n",
       "| 대현동   |  69      |\n",
       "| 미근동   |   6      |\n",
       "| 북가좌동 | 155      |\n",
       "| 북아현동 |  45      |\n",
       "| 신촌동   |   2      |\n",
       "| 연희동   | 104      |\n",
       "| 영천동   |  15      |\n",
       "| 옥천동   |   3      |\n",
       "| 창천동   | 395      |\n",
       "| 천연동   |   3      |\n",
       "| 충정로가 |  48      |\n",
       "| 합동     |   2      |\n",
       "| 홍은동   | 150      |\n",
       "| 홍제동   | 209      |\n",
       "\n"
      ],
      "text/plain": [
       "   .        Freq\n",
       "1  남가좌동 282 \n",
       "2  냉천동    24 \n",
       "3  대신동     3 \n",
       "4  대현동    69 \n",
       "5  미근동     6 \n",
       "6  북가좌동 155 \n",
       "7  북아현동  45 \n",
       "8  신촌동     2 \n",
       "9  연희동   104 \n",
       "10 영천동    15 \n",
       "11 옥천동     3 \n",
       "12 창천동   395 \n",
       "13 천연동     3 \n",
       "14 충정로가  48 \n",
       "15 합동       2 \n",
       "16 홍은동   150 \n",
       "17 홍제동   209 "
      ]
     },
     "metadata": {},
     "output_type": "display_data"
    }
   ],
   "source": [
    "addr_count"
   ]
  },
  {
   "cell_type": "code",
   "execution_count": 18,
   "id": "subsequent-raleigh",
   "metadata": {},
   "outputs": [
    {
     "name": "stderr",
     "output_type": "stream",
     "text": [
      "Installing package into 'C:/Users/samsung/Documents/R/win-library/3.6'\n",
      "(as 'lib' is unspecified)\n",
      "also installing the dependencies 'gridBase', 'igraph'\n",
      "\n"
     ]
    },
    {
     "name": "stdout",
     "output_type": "stream",
     "text": [
      "package 'gridBase' successfully unpacked and MD5 sums checked\n",
      "package 'igraph' successfully unpacked and MD5 sums checked\n",
      "package 'treemap' successfully unpacked and MD5 sums checked\n",
      "\n",
      "The downloaded binary packages are in\n",
      "\tC:\\Users\\samsung\\AppData\\Local\\Temp\\Rtmp0YUTZD\\downloaded_packages\n"
     ]
    }
   ],
   "source": [
    "install.packages(\"treemap\")"
   ]
  },
  {
   "cell_type": "code",
   "execution_count": 19,
   "id": "closed-spirituality",
   "metadata": {},
   "outputs": [
    {
     "name": "stderr",
     "output_type": "stream",
     "text": [
      "Warning message:\n",
      "\"package 'treemap' was built under R version 3.6.3\""
     ]
    }
   ],
   "source": [
    "library(treemap)"
   ]
  },
  {
   "cell_type": "code",
   "execution_count": 21,
   "id": "connected-timer",
   "metadata": {
    "scrolled": false
   },
   "outputs": [
    {
     "data": {
      "image/png": "[encoded data removed]",
      "text/plain": [
       "plot without title"
      ]
     },
     "metadata": {},
     "output_type": "display_data"
    }
   ],
   "source": [
    "treemap(addr_count, index = \".\", vSize = \"Freq\", title = \"서대문구 동별 치킨집 분포\")"
   ]
  },
  {
   "cell_type": "code",
   "execution_count": 22,
   "id": "essential-calibration",
   "metadata": {},
   "outputs": [],
   "source": [
    "############################################################################################################################"
   ]
  },
  {
   "cell_type": "code",
   "execution_count": 23,
   "id": "prescribed-capital",
   "metadata": {},
   "outputs": [],
   "source": [
    "# 서울시의 구 중에서 성북구와 중구의 미세먼지 비교 및 차이 검정... t검정"
   ]
  },
  {
   "cell_type": "code",
   "execution_count": 25,
   "id": "eleven-reporter",
   "metadata": {},
   "outputs": [
    {
     "data": {
      "text/html": [
       "<table>\n",
       "<thead><tr><th scope=col>yyyymmdd</th><th scope=col>area</th><th scope=col>finedust</th></tr></thead>\n",
       "<tbody>\n",
       "\t<tr><td>전체      </td><td>평균      </td><td>38        </td></tr>\n",
       "\t<tr><td>2017-12-31</td><td>평균      </td><td>63        </td></tr>\n",
       "\t<tr><td>2017-12-31</td><td>종로구    </td><td>54        </td></tr>\n",
       "\t<tr><td>2017-12-31</td><td>중구      </td><td>53        </td></tr>\n",
       "\t<tr><td>2017-12-31</td><td>용산구    </td><td>60        </td></tr>\n",
       "\t<tr><td>2017-12-31</td><td>성동구    </td><td>62        </td></tr>\n",
       "</tbody>\n",
       "</table>\n"
      ],
      "text/latex": [
       "\\begin{tabular}{r|lll}\n",
       " yyyymmdd & area & finedust\\\\\n",
       "\\hline\n",
       "\t 전체       & 평균       & 38        \\\\\n",
       "\t 2017-12-31 & 평균       & 63        \\\\\n",
       "\t 2017-12-31 & 종로구     & 54        \\\\\n",
       "\t 2017-12-31 & 중구       & 53        \\\\\n",
       "\t 2017-12-31 & 용산구     & 60        \\\\\n",
       "\t 2017-12-31 & 성동구     & 62        \\\\\n",
       "\\end{tabular}\n"
      ],
      "text/markdown": [
       "\n",
       "| yyyymmdd | area | finedust |\n",
       "|---|---|---|\n",
       "| 전체       | 평균       | 38         |\n",
       "| 2017-12-31 | 평균       | 63         |\n",
       "| 2017-12-31 | 종로구     | 54         |\n",
       "| 2017-12-31 | 중구       | 53         |\n",
       "| 2017-12-31 | 용산구     | 60         |\n",
       "| 2017-12-31 | 성동구     | 62         |\n",
       "\n"
      ],
      "text/plain": [
       "  yyyymmdd   area   finedust\n",
       "1 전체       평균   38      \n",
       "2 2017-12-31 평균   63      \n",
       "3 2017-12-31 종로구 54      \n",
       "4 2017-12-31 중구   53      \n",
       "5 2017-12-31 용산구 60      \n",
       "6 2017-12-31 성동구 62      "
      ]
     },
     "metadata": {},
     "output_type": "display_data"
    }
   ],
   "source": [
    "dust <- read_excel(\"dustdata.xlsx\")\n",
    "\n",
    "head(dust)"
   ]
  },
  {
   "cell_type": "code",
   "execution_count": 26,
   "id": "french-praise",
   "metadata": {},
   "outputs": [
    {
     "name": "stdout",
     "output_type": "stream",
     "text": [
      "Classes 'tbl_df', 'tbl' and 'data.frame':\t3173 obs. of  3 variables:\n",
      " $ yyyymmdd: chr  \"전체\" \"2017-12-31\" \"2017-12-31\" \"2017-12-31\" ...\n",
      " $ area    : chr  \"평균\" \"평균\" \"종로구\" \"중구\" ...\n",
      " $ finedust: num  38 63 54 53 60 62 63 69 67 60 ...\n"
     ]
    },
    {
     "data": {
      "text/html": [
       "<ol class=list-inline>\n",
       "\t<li>3173</li>\n",
       "\t<li>3</li>\n",
       "</ol>\n"
      ],
      "text/latex": [
       "\\begin{enumerate*}\n",
       "\\item 3173\n",
       "\\item 3\n",
       "\\end{enumerate*}\n"
      ],
      "text/markdown": [
       "1. 3173\n",
       "2. 3\n",
       "\n",
       "\n"
      ],
      "text/plain": [
       "[1] 3173    3"
      ]
     },
     "metadata": {},
     "output_type": "display_data"
    }
   ],
   "source": [
    "str(dust)\n",
    "\n",
    "dim(dust)"
   ]
  },
  {
   "cell_type": "code",
   "execution_count": 28,
   "id": "difficult-lover",
   "metadata": {},
   "outputs": [
    {
     "data": {
      "text/html": [
       "<table>\n",
       "<thead><tr><th scope=col>yyyymmdd</th><th scope=col>area</th><th scope=col>finedust</th></tr></thead>\n",
       "<tbody>\n",
       "\t<tr><td>2017-12-31</td><td>중구      </td><td> 53       </td></tr>\n",
       "\t<tr><td>2017-12-31</td><td>성북구    </td><td> 60       </td></tr>\n",
       "\t<tr><td>2017-12-30</td><td>중구      </td><td>112       </td></tr>\n",
       "\t<tr><td>2017-12-30</td><td>성북구    </td><td>128       </td></tr>\n",
       "\t<tr><td>2017-12-29</td><td>중구      </td><td> 81       </td></tr>\n",
       "\t<tr><td>2017-12-29</td><td>성북구    </td><td> 95       </td></tr>\n",
       "</tbody>\n",
       "</table>\n"
      ],
      "text/latex": [
       "\\begin{tabular}{r|lll}\n",
       " yyyymmdd & area & finedust\\\\\n",
       "\\hline\n",
       "\t 2017-12-31 & 중구       &  53       \\\\\n",
       "\t 2017-12-31 & 성북구     &  60       \\\\\n",
       "\t 2017-12-30 & 중구       & 112       \\\\\n",
       "\t 2017-12-30 & 성북구     & 128       \\\\\n",
       "\t 2017-12-29 & 중구       &  81       \\\\\n",
       "\t 2017-12-29 & 성북구     &  95       \\\\\n",
       "\\end{tabular}\n"
      ],
      "text/markdown": [
       "\n",
       "| yyyymmdd | area | finedust |\n",
       "|---|---|---|\n",
       "| 2017-12-31 | 중구       |  53        |\n",
       "| 2017-12-31 | 성북구     |  60        |\n",
       "| 2017-12-30 | 중구       | 112        |\n",
       "| 2017-12-30 | 성북구     | 128        |\n",
       "| 2017-12-29 | 중구       |  81        |\n",
       "| 2017-12-29 | 성북구     |  95        |\n",
       "\n"
      ],
      "text/plain": [
       "  yyyymmdd   area   finedust\n",
       "1 2017-12-31 중구    53     \n",
       "2 2017-12-31 성북구  60     \n",
       "3 2017-12-30 중구   112     \n",
       "4 2017-12-30 성북구 128     \n",
       "5 2017-12-29 중구    81     \n",
       "6 2017-12-29 성북구  95     "
      ]
     },
     "metadata": {},
     "output_type": "display_data"
    }
   ],
   "source": [
    "# 성북구와 중구 데이터만 추출\n",
    "\n",
    "dust_anal <- dust %>% filter(area %in% c(\"성북구\", \"중구\"))\n",
    "\n",
    "head(dust_anal)"
   ]
  },
  {
   "cell_type": "code",
   "execution_count": 33,
   "id": "corrected-seeker",
   "metadata": {},
   "outputs": [
    {
     "data": {
      "text/html": [
       "<table>\n",
       "<thead><tr><th scope=col>yyyymmdd</th><th scope=col>n</th></tr></thead>\n",
       "<tbody>\n",
       "\t<tr><td>2017-09-01</td><td>2         </td></tr>\n",
       "\t<tr><td>2017-09-02</td><td>2         </td></tr>\n",
       "\t<tr><td>2017-09-03</td><td>2         </td></tr>\n",
       "\t<tr><td>2017-09-04</td><td>2         </td></tr>\n",
       "\t<tr><td>2017-09-05</td><td>2         </td></tr>\n",
       "\t<tr><td>2017-09-06</td><td>2         </td></tr>\n",
       "\t<tr><td>2017-09-07</td><td>2         </td></tr>\n",
       "\t<tr><td>2017-09-08</td><td>2         </td></tr>\n",
       "\t<tr><td>2017-09-09</td><td>2         </td></tr>\n",
       "\t<tr><td>2017-09-10</td><td>2         </td></tr>\n",
       "\t<tr><td>2017-09-11</td><td>2         </td></tr>\n",
       "\t<tr><td>2017-09-12</td><td>2         </td></tr>\n",
       "\t<tr><td>2017-09-13</td><td>2         </td></tr>\n",
       "\t<tr><td>2017-09-14</td><td>2         </td></tr>\n",
       "\t<tr><td>2017-09-15</td><td>2         </td></tr>\n",
       "\t<tr><td>2017-09-16</td><td>2         </td></tr>\n",
       "\t<tr><td>2017-09-17</td><td>2         </td></tr>\n",
       "\t<tr><td>2017-09-18</td><td>2         </td></tr>\n",
       "\t<tr><td>2017-09-19</td><td>2         </td></tr>\n",
       "\t<tr><td>2017-09-20</td><td>2         </td></tr>\n",
       "\t<tr><td>2017-09-21</td><td>2         </td></tr>\n",
       "\t<tr><td>2017-09-22</td><td>2         </td></tr>\n",
       "\t<tr><td>2017-09-23</td><td>2         </td></tr>\n",
       "\t<tr><td>2017-09-24</td><td>2         </td></tr>\n",
       "\t<tr><td>2017-09-25</td><td>2         </td></tr>\n",
       "\t<tr><td>2017-09-26</td><td>2         </td></tr>\n",
       "\t<tr><td>2017-09-27</td><td>2         </td></tr>\n",
       "\t<tr><td>2017-09-28</td><td>2         </td></tr>\n",
       "\t<tr><td>2017-09-29</td><td>2         </td></tr>\n",
       "\t<tr><td>2017-09-30</td><td>2         </td></tr>\n",
       "\t<tr><td>...</td><td>...</td></tr>\n",
       "\t<tr><td>2017-12-02</td><td>2         </td></tr>\n",
       "\t<tr><td>2017-12-03</td><td>2         </td></tr>\n",
       "\t<tr><td>2017-12-04</td><td>2         </td></tr>\n",
       "\t<tr><td>2017-12-05</td><td>2         </td></tr>\n",
       "\t<tr><td>2017-12-06</td><td>2         </td></tr>\n",
       "\t<tr><td>2017-12-07</td><td>2         </td></tr>\n",
       "\t<tr><td>2017-12-08</td><td>2         </td></tr>\n",
       "\t<tr><td>2017-12-09</td><td>2         </td></tr>\n",
       "\t<tr><td>2017-12-10</td><td>2         </td></tr>\n",
       "\t<tr><td>2017-12-11</td><td>2         </td></tr>\n",
       "\t<tr><td>2017-12-12</td><td>2         </td></tr>\n",
       "\t<tr><td>2017-12-13</td><td>2         </td></tr>\n",
       "\t<tr><td>2017-12-14</td><td>2         </td></tr>\n",
       "\t<tr><td>2017-12-15</td><td>2         </td></tr>\n",
       "\t<tr><td>2017-12-16</td><td>2         </td></tr>\n",
       "\t<tr><td>2017-12-17</td><td>2         </td></tr>\n",
       "\t<tr><td>2017-12-18</td><td>2         </td></tr>\n",
       "\t<tr><td>2017-12-19</td><td>2         </td></tr>\n",
       "\t<tr><td>2017-12-20</td><td>2         </td></tr>\n",
       "\t<tr><td>2017-12-21</td><td>2         </td></tr>\n",
       "\t<tr><td>2017-12-22</td><td>2         </td></tr>\n",
       "\t<tr><td>2017-12-23</td><td>2         </td></tr>\n",
       "\t<tr><td>2017-12-24</td><td>2         </td></tr>\n",
       "\t<tr><td>2017-12-25</td><td>2         </td></tr>\n",
       "\t<tr><td>2017-12-26</td><td>2         </td></tr>\n",
       "\t<tr><td>2017-12-27</td><td>2         </td></tr>\n",
       "\t<tr><td>2017-12-28</td><td>2         </td></tr>\n",
       "\t<tr><td>2017-12-29</td><td>2         </td></tr>\n",
       "\t<tr><td>2017-12-30</td><td>2         </td></tr>\n",
       "\t<tr><td>2017-12-31</td><td>2         </td></tr>\n",
       "</tbody>\n",
       "</table>\n"
      ],
      "text/latex": [
       "\\begin{tabular}{r|ll}\n",
       " yyyymmdd & n\\\\\n",
       "\\hline\n",
       "\t 2017-09-01 & 2         \\\\\n",
       "\t 2017-09-02 & 2         \\\\\n",
       "\t 2017-09-03 & 2         \\\\\n",
       "\t 2017-09-04 & 2         \\\\\n",
       "\t 2017-09-05 & 2         \\\\\n",
       "\t 2017-09-06 & 2         \\\\\n",
       "\t 2017-09-07 & 2         \\\\\n",
       "\t 2017-09-08 & 2         \\\\\n",
       "\t 2017-09-09 & 2         \\\\\n",
       "\t 2017-09-10 & 2         \\\\\n",
       "\t 2017-09-11 & 2         \\\\\n",
       "\t 2017-09-12 & 2         \\\\\n",
       "\t 2017-09-13 & 2         \\\\\n",
       "\t 2017-09-14 & 2         \\\\\n",
       "\t 2017-09-15 & 2         \\\\\n",
       "\t 2017-09-16 & 2         \\\\\n",
       "\t 2017-09-17 & 2         \\\\\n",
       "\t 2017-09-18 & 2         \\\\\n",
       "\t 2017-09-19 & 2         \\\\\n",
       "\t 2017-09-20 & 2         \\\\\n",
       "\t 2017-09-21 & 2         \\\\\n",
       "\t 2017-09-22 & 2         \\\\\n",
       "\t 2017-09-23 & 2         \\\\\n",
       "\t 2017-09-24 & 2         \\\\\n",
       "\t 2017-09-25 & 2         \\\\\n",
       "\t 2017-09-26 & 2         \\\\\n",
       "\t 2017-09-27 & 2         \\\\\n",
       "\t 2017-09-28 & 2         \\\\\n",
       "\t 2017-09-29 & 2         \\\\\n",
       "\t 2017-09-30 & 2         \\\\\n",
       "\t ... & ...\\\\\n",
       "\t 2017-12-02 & 2         \\\\\n",
       "\t 2017-12-03 & 2         \\\\\n",
       "\t 2017-12-04 & 2         \\\\\n",
       "\t 2017-12-05 & 2         \\\\\n",
       "\t 2017-12-06 & 2         \\\\\n",
       "\t 2017-12-07 & 2         \\\\\n",
       "\t 2017-12-08 & 2         \\\\\n",
       "\t 2017-12-09 & 2         \\\\\n",
       "\t 2017-12-10 & 2         \\\\\n",
       "\t 2017-12-11 & 2         \\\\\n",
       "\t 2017-12-12 & 2         \\\\\n",
       "\t 2017-12-13 & 2         \\\\\n",
       "\t 2017-12-14 & 2         \\\\\n",
       "\t 2017-12-15 & 2         \\\\\n",
       "\t 2017-12-16 & 2         \\\\\n",
       "\t 2017-12-17 & 2         \\\\\n",
       "\t 2017-12-18 & 2         \\\\\n",
       "\t 2017-12-19 & 2         \\\\\n",
       "\t 2017-12-20 & 2         \\\\\n",
       "\t 2017-12-21 & 2         \\\\\n",
       "\t 2017-12-22 & 2         \\\\\n",
       "\t 2017-12-23 & 2         \\\\\n",
       "\t 2017-12-24 & 2         \\\\\n",
       "\t 2017-12-25 & 2         \\\\\n",
       "\t 2017-12-26 & 2         \\\\\n",
       "\t 2017-12-27 & 2         \\\\\n",
       "\t 2017-12-28 & 2         \\\\\n",
       "\t 2017-12-29 & 2         \\\\\n",
       "\t 2017-12-30 & 2         \\\\\n",
       "\t 2017-12-31 & 2         \\\\\n",
       "\\end{tabular}\n"
      ],
      "text/markdown": [
       "\n",
       "| yyyymmdd | n |\n",
       "|---|---|\n",
       "| 2017-09-01 | 2          |\n",
       "| 2017-09-02 | 2          |\n",
       "| 2017-09-03 | 2          |\n",
       "| 2017-09-04 | 2          |\n",
       "| 2017-09-05 | 2          |\n",
       "| 2017-09-06 | 2          |\n",
       "| 2017-09-07 | 2          |\n",
       "| 2017-09-08 | 2          |\n",
       "| 2017-09-09 | 2          |\n",
       "| 2017-09-10 | 2          |\n",
       "| 2017-09-11 | 2          |\n",
       "| 2017-09-12 | 2          |\n",
       "| 2017-09-13 | 2          |\n",
       "| 2017-09-14 | 2          |\n",
       "| 2017-09-15 | 2          |\n",
       "| 2017-09-16 | 2          |\n",
       "| 2017-09-17 | 2          |\n",
       "| 2017-09-18 | 2          |\n",
       "| 2017-09-19 | 2          |\n",
       "| 2017-09-20 | 2          |\n",
       "| 2017-09-21 | 2          |\n",
       "| 2017-09-22 | 2          |\n",
       "| 2017-09-23 | 2          |\n",
       "| 2017-09-24 | 2          |\n",
       "| 2017-09-25 | 2          |\n",
       "| 2017-09-26 | 2          |\n",
       "| 2017-09-27 | 2          |\n",
       "| 2017-09-28 | 2          |\n",
       "| 2017-09-29 | 2          |\n",
       "| 2017-09-30 | 2          |\n",
       "| ... | ... |\n",
       "| 2017-12-02 | 2          |\n",
       "| 2017-12-03 | 2          |\n",
       "| 2017-12-04 | 2          |\n",
       "| 2017-12-05 | 2          |\n",
       "| 2017-12-06 | 2          |\n",
       "| 2017-12-07 | 2          |\n",
       "| 2017-12-08 | 2          |\n",
       "| 2017-12-09 | 2          |\n",
       "| 2017-12-10 | 2          |\n",
       "| 2017-12-11 | 2          |\n",
       "| 2017-12-12 | 2          |\n",
       "| 2017-12-13 | 2          |\n",
       "| 2017-12-14 | 2          |\n",
       "| 2017-12-15 | 2          |\n",
       "| 2017-12-16 | 2          |\n",
       "| 2017-12-17 | 2          |\n",
       "| 2017-12-18 | 2          |\n",
       "| 2017-12-19 | 2          |\n",
       "| 2017-12-20 | 2          |\n",
       "| 2017-12-21 | 2          |\n",
       "| 2017-12-22 | 2          |\n",
       "| 2017-12-23 | 2          |\n",
       "| 2017-12-24 | 2          |\n",
       "| 2017-12-25 | 2          |\n",
       "| 2017-12-26 | 2          |\n",
       "| 2017-12-27 | 2          |\n",
       "| 2017-12-28 | 2          |\n",
       "| 2017-12-29 | 2          |\n",
       "| 2017-12-30 | 2          |\n",
       "| 2017-12-31 | 2          |\n",
       "\n"
      ],
      "text/plain": [
       "    yyyymmdd   n  \n",
       "1   2017-09-01 2  \n",
       "2   2017-09-02 2  \n",
       "3   2017-09-03 2  \n",
       "4   2017-09-04 2  \n",
       "5   2017-09-05 2  \n",
       "6   2017-09-06 2  \n",
       "7   2017-09-07 2  \n",
       "8   2017-09-08 2  \n",
       "9   2017-09-09 2  \n",
       "10  2017-09-10 2  \n",
       "11  2017-09-11 2  \n",
       "12  2017-09-12 2  \n",
       "13  2017-09-13 2  \n",
       "14  2017-09-14 2  \n",
       "15  2017-09-15 2  \n",
       "16  2017-09-16 2  \n",
       "17  2017-09-17 2  \n",
       "18  2017-09-18 2  \n",
       "19  2017-09-19 2  \n",
       "20  2017-09-20 2  \n",
       "21  2017-09-21 2  \n",
       "22  2017-09-22 2  \n",
       "23  2017-09-23 2  \n",
       "24  2017-09-24 2  \n",
       "25  2017-09-25 2  \n",
       "26  2017-09-26 2  \n",
       "27  2017-09-27 2  \n",
       "28  2017-09-28 2  \n",
       "29  2017-09-29 2  \n",
       "30  2017-09-30 2  \n",
       "... ...        ...\n",
       "93  2017-12-02 2  \n",
       "94  2017-12-03 2  \n",
       "95  2017-12-04 2  \n",
       "96  2017-12-05 2  \n",
       "97  2017-12-06 2  \n",
       "98  2017-12-07 2  \n",
       "99  2017-12-08 2  \n",
       "100 2017-12-09 2  \n",
       "101 2017-12-10 2  \n",
       "102 2017-12-11 2  \n",
       "103 2017-12-12 2  \n",
       "104 2017-12-13 2  \n",
       "105 2017-12-14 2  \n",
       "106 2017-12-15 2  \n",
       "107 2017-12-16 2  \n",
       "108 2017-12-17 2  \n",
       "109 2017-12-18 2  \n",
       "110 2017-12-19 2  \n",
       "111 2017-12-20 2  \n",
       "112 2017-12-21 2  \n",
       "113 2017-12-22 2  \n",
       "114 2017-12-23 2  \n",
       "115 2017-12-24 2  \n",
       "116 2017-12-25 2  \n",
       "117 2017-12-26 2  \n",
       "118 2017-12-27 2  \n",
       "119 2017-12-28 2  \n",
       "120 2017-12-29 2  \n",
       "121 2017-12-30 2  \n",
       "122 2017-12-31 2  "
      ]
     },
     "metadata": {},
     "output_type": "display_data"
    },
    {
     "data": {
      "text/html": [
       "<table>\n",
       "<thead><tr><th scope=col>area</th><th scope=col>n</th></tr></thead>\n",
       "<tbody>\n",
       "\t<tr><td>성북구</td><td>122   </td></tr>\n",
       "\t<tr><td>중구  </td><td>122   </td></tr>\n",
       "</tbody>\n",
       "</table>\n"
      ],
      "text/latex": [
       "\\begin{tabular}{r|ll}\n",
       " area & n\\\\\n",
       "\\hline\n",
       "\t 성북구 & 122   \\\\\n",
       "\t 중구   & 122   \\\\\n",
       "\\end{tabular}\n"
      ],
      "text/markdown": [
       "\n",
       "| area | n |\n",
       "|---|---|\n",
       "| 성북구 | 122    |\n",
       "| 중구   | 122    |\n",
       "\n"
      ],
      "text/plain": [
       "  area   n  \n",
       "1 성북구 122\n",
       "2 중구   122"
      ]
     },
     "metadata": {},
     "output_type": "display_data"
    }
   ],
   "source": [
    "# 데이터 현황 구체적인 파악\n",
    "\n",
    "# 데이터 날짜 확인 -> 2017년 9월 1일 부터 12월 31일까지...\n",
    "\n",
    "count(dust_anal, yyyymmdd) %>%  arrange(desc(n)) # 모든 데이터가 2개 확인.\n",
    "\n",
    "count(dust_anal, area)\n",
    "\n",
    "# 실행 결과를 보면 빠진 데이터가 없이 동일한 날짜는 2개씩 구에 따른 미세먼지 수치는 122개씩 모두 포함되어 있음을 알 수 있다."
   ]
  },
  {
   "cell_type": "code",
   "execution_count": 37,
   "id": "structured-adult",
   "metadata": {},
   "outputs": [
    {
     "data": {
      "text/html": [
       "<table>\n",
       "<thead><tr><th scope=col>yyyymmdd</th><th scope=col>area</th><th scope=col>finedust</th></tr></thead>\n",
       "<tbody>\n",
       "\t<tr><td>2017-12-31</td><td>성북구    </td><td> 60       </td></tr>\n",
       "\t<tr><td>2017-12-30</td><td>성북구    </td><td>128       </td></tr>\n",
       "\t<tr><td>2017-12-29</td><td>성북구    </td><td> 95       </td></tr>\n",
       "\t<tr><td>2017-12-28</td><td>성북구    </td><td> 47       </td></tr>\n",
       "\t<tr><td>2017-12-27</td><td>성북구    </td><td> 27       </td></tr>\n",
       "\t<tr><td>2017-12-26</td><td>성북구    </td><td> 27       </td></tr>\n",
       "\t<tr><td>2017-12-25</td><td>성북구    </td><td> 29       </td></tr>\n",
       "\t<tr><td>2017-12-24</td><td>성북구    </td><td> 79       </td></tr>\n",
       "\t<tr><td>2017-12-23</td><td>성북구    </td><td>116       </td></tr>\n",
       "\t<tr><td>2017-12-22</td><td>성북구    </td><td> 63       </td></tr>\n",
       "\t<tr><td>2017-12-21</td><td>성북구    </td><td> 53       </td></tr>\n",
       "\t<tr><td>2017-12-20</td><td>성북구    </td><td> 43       </td></tr>\n",
       "\t<tr><td>2017-12-19</td><td>성북구    </td><td> 46       </td></tr>\n",
       "\t<tr><td>2017-12-18</td><td>성북구    </td><td> 59       </td></tr>\n",
       "\t<tr><td>2017-12-17</td><td>성북구    </td><td> 39       </td></tr>\n",
       "\t<tr><td>2017-12-16</td><td>성북구    </td><td> 41       </td></tr>\n",
       "\t<tr><td>2017-12-15</td><td>성북구    </td><td> 95       </td></tr>\n",
       "\t<tr><td>2017-12-14</td><td>성북구    </td><td> 58       </td></tr>\n",
       "\t<tr><td>2017-12-13</td><td>성북구    </td><td> 38       </td></tr>\n",
       "\t<tr><td>2017-12-12</td><td>성북구    </td><td> 33       </td></tr>\n",
       "\t<tr><td>2017-12-11</td><td>성북구    </td><td> 55       </td></tr>\n",
       "\t<tr><td>2017-12-10</td><td>성북구    </td><td> 38       </td></tr>\n",
       "\t<tr><td>2017-12-09</td><td>성북구    </td><td> 43       </td></tr>\n",
       "\t<tr><td>2017-12-08</td><td>성북구    </td><td> 32       </td></tr>\n",
       "\t<tr><td>2017-12-07</td><td>성북구    </td><td> 45       </td></tr>\n",
       "\t<tr><td>2017-12-06</td><td>성북구    </td><td> 32       </td></tr>\n",
       "\t<tr><td>2017-12-05</td><td>성북구    </td><td> 23       </td></tr>\n",
       "\t<tr><td>2017-12-04</td><td>성북구    </td><td> 41       </td></tr>\n",
       "\t<tr><td>2017-12-03</td><td>성북구    </td><td> 54       </td></tr>\n",
       "\t<tr><td>2017-12-02</td><td>성북구    </td><td> 43       </td></tr>\n",
       "\t<tr><td>...</td><td>...</td><td>...</td></tr>\n",
       "\t<tr><td>2017-09-30</td><td>성북구    </td><td>43        </td></tr>\n",
       "\t<tr><td>2017-09-29</td><td>성북구    </td><td>26        </td></tr>\n",
       "\t<tr><td>2017-09-28</td><td>성북구    </td><td>27        </td></tr>\n",
       "\t<tr><td>2017-09-27</td><td>성북구    </td><td>47        </td></tr>\n",
       "\t<tr><td>2017-09-26</td><td>성북구    </td><td>55        </td></tr>\n",
       "\t<tr><td>2017-09-25</td><td>성북구    </td><td>53        </td></tr>\n",
       "\t<tr><td>2017-09-24</td><td>성북구    </td><td>79        </td></tr>\n",
       "\t<tr><td>2017-09-23</td><td>성북구    </td><td>69        </td></tr>\n",
       "\t<tr><td>2017-09-22</td><td>성북구    </td><td>38        </td></tr>\n",
       "\t<tr><td>2017-09-21</td><td>성북구    </td><td>33        </td></tr>\n",
       "\t<tr><td>2017-09-20</td><td>성북구    </td><td>29        </td></tr>\n",
       "\t<tr><td>2017-09-19</td><td>성북구    </td><td>75        </td></tr>\n",
       "\t<tr><td>2017-09-18</td><td>성북구    </td><td>24        </td></tr>\n",
       "\t<tr><td>2017-09-17</td><td>성북구    </td><td>12        </td></tr>\n",
       "\t<tr><td>2017-09-16</td><td>성북구    </td><td>15        </td></tr>\n",
       "\t<tr><td>2017-09-15</td><td>성북구    </td><td>22        </td></tr>\n",
       "\t<tr><td>2017-09-14</td><td>성북구    </td><td>34        </td></tr>\n",
       "\t<tr><td>2017-09-13</td><td>성북구    </td><td>28        </td></tr>\n",
       "\t<tr><td>2017-09-12</td><td>성북구    </td><td>29        </td></tr>\n",
       "\t<tr><td>2017-09-11</td><td>성북구    </td><td>26        </td></tr>\n",
       "\t<tr><td>2017-09-10</td><td>성북구    </td><td>60        </td></tr>\n",
       "\t<tr><td>2017-09-09</td><td>성북구    </td><td>60        </td></tr>\n",
       "\t<tr><td>2017-09-08</td><td>성북구    </td><td>52        </td></tr>\n",
       "\t<tr><td>2017-09-07</td><td>성북구    </td><td>44        </td></tr>\n",
       "\t<tr><td>2017-09-06</td><td>성북구    </td><td>32        </td></tr>\n",
       "\t<tr><td>2017-09-05</td><td>성북구    </td><td>32        </td></tr>\n",
       "\t<tr><td>2017-09-04</td><td>성북구    </td><td>37        </td></tr>\n",
       "\t<tr><td>2017-09-03</td><td>성북구    </td><td>36        </td></tr>\n",
       "\t<tr><td>2017-09-02</td><td>성북구    </td><td>31        </td></tr>\n",
       "\t<tr><td>2017-09-01</td><td>성북구    </td><td>30        </td></tr>\n",
       "</tbody>\n",
       "</table>\n"
      ],
      "text/latex": [
       "\\begin{tabular}{r|lll}\n",
       " yyyymmdd & area & finedust\\\\\n",
       "\\hline\n",
       "\t 2017-12-31 & 성북구     &  60       \\\\\n",
       "\t 2017-12-30 & 성북구     & 128       \\\\\n",
       "\t 2017-12-29 & 성북구     &  95       \\\\\n",
       "\t 2017-12-28 & 성북구     &  47       \\\\\n",
       "\t 2017-12-27 & 성북구     &  27       \\\\\n",
       "\t 2017-12-26 & 성북구     &  27       \\\\\n",
       "\t 2017-12-25 & 성북구     &  29       \\\\\n",
       "\t 2017-12-24 & 성북구     &  79       \\\\\n",
       "\t 2017-12-23 & 성북구     & 116       \\\\\n",
       "\t 2017-12-22 & 성북구     &  63       \\\\\n",
       "\t 2017-12-21 & 성북구     &  53       \\\\\n",
       "\t 2017-12-20 & 성북구     &  43       \\\\\n",
       "\t 2017-12-19 & 성북구     &  46       \\\\\n",
       "\t 2017-12-18 & 성북구     &  59       \\\\\n",
       "\t 2017-12-17 & 성북구     &  39       \\\\\n",
       "\t 2017-12-16 & 성북구     &  41       \\\\\n",
       "\t 2017-12-15 & 성북구     &  95       \\\\\n",
       "\t 2017-12-14 & 성북구     &  58       \\\\\n",
       "\t 2017-12-13 & 성북구     &  38       \\\\\n",
       "\t 2017-12-12 & 성북구     &  33       \\\\\n",
       "\t 2017-12-11 & 성북구     &  55       \\\\\n",
       "\t 2017-12-10 & 성북구     &  38       \\\\\n",
       "\t 2017-12-09 & 성북구     &  43       \\\\\n",
       "\t 2017-12-08 & 성북구     &  32       \\\\\n",
       "\t 2017-12-07 & 성북구     &  45       \\\\\n",
       "\t 2017-12-06 & 성북구     &  32       \\\\\n",
       "\t 2017-12-05 & 성북구     &  23       \\\\\n",
       "\t 2017-12-04 & 성북구     &  41       \\\\\n",
       "\t 2017-12-03 & 성북구     &  54       \\\\\n",
       "\t 2017-12-02 & 성북구     &  43       \\\\\n",
       "\t ... & ... & ...\\\\\n",
       "\t 2017-09-30 & 성북구     & 43        \\\\\n",
       "\t 2017-09-29 & 성북구     & 26        \\\\\n",
       "\t 2017-09-28 & 성북구     & 27        \\\\\n",
       "\t 2017-09-27 & 성북구     & 47        \\\\\n",
       "\t 2017-09-26 & 성북구     & 55        \\\\\n",
       "\t 2017-09-25 & 성북구     & 53        \\\\\n",
       "\t 2017-09-24 & 성북구     & 79        \\\\\n",
       "\t 2017-09-23 & 성북구     & 69        \\\\\n",
       "\t 2017-09-22 & 성북구     & 38        \\\\\n",
       "\t 2017-09-21 & 성북구     & 33        \\\\\n",
       "\t 2017-09-20 & 성북구     & 29        \\\\\n",
       "\t 2017-09-19 & 성북구     & 75        \\\\\n",
       "\t 2017-09-18 & 성북구     & 24        \\\\\n",
       "\t 2017-09-17 & 성북구     & 12        \\\\\n",
       "\t 2017-09-16 & 성북구     & 15        \\\\\n",
       "\t 2017-09-15 & 성북구     & 22        \\\\\n",
       "\t 2017-09-14 & 성북구     & 34        \\\\\n",
       "\t 2017-09-13 & 성북구     & 28        \\\\\n",
       "\t 2017-09-12 & 성북구     & 29        \\\\\n",
       "\t 2017-09-11 & 성북구     & 26        \\\\\n",
       "\t 2017-09-10 & 성북구     & 60        \\\\\n",
       "\t 2017-09-09 & 성북구     & 60        \\\\\n",
       "\t 2017-09-08 & 성북구     & 52        \\\\\n",
       "\t 2017-09-07 & 성북구     & 44        \\\\\n",
       "\t 2017-09-06 & 성북구     & 32        \\\\\n",
       "\t 2017-09-05 & 성북구     & 32        \\\\\n",
       "\t 2017-09-04 & 성북구     & 37        \\\\\n",
       "\t 2017-09-03 & 성북구     & 36        \\\\\n",
       "\t 2017-09-02 & 성북구     & 31        \\\\\n",
       "\t 2017-09-01 & 성북구     & 30        \\\\\n",
       "\\end{tabular}\n"
      ],
      "text/markdown": [
       "\n",
       "| yyyymmdd | area | finedust |\n",
       "|---|---|---|\n",
       "| 2017-12-31 | 성북구     |  60        |\n",
       "| 2017-12-30 | 성북구     | 128        |\n",
       "| 2017-12-29 | 성북구     |  95        |\n",
       "| 2017-12-28 | 성북구     |  47        |\n",
       "| 2017-12-27 | 성북구     |  27        |\n",
       "| 2017-12-26 | 성북구     |  27        |\n",
       "| 2017-12-25 | 성북구     |  29        |\n",
       "| 2017-12-24 | 성북구     |  79        |\n",
       "| 2017-12-23 | 성북구     | 116        |\n",
       "| 2017-12-22 | 성북구     |  63        |\n",
       "| 2017-12-21 | 성북구     |  53        |\n",
       "| 2017-12-20 | 성북구     |  43        |\n",
       "| 2017-12-19 | 성북구     |  46        |\n",
       "| 2017-12-18 | 성북구     |  59        |\n",
       "| 2017-12-17 | 성북구     |  39        |\n",
       "| 2017-12-16 | 성북구     |  41        |\n",
       "| 2017-12-15 | 성북구     |  95        |\n",
       "| 2017-12-14 | 성북구     |  58        |\n",
       "| 2017-12-13 | 성북구     |  38        |\n",
       "| 2017-12-12 | 성북구     |  33        |\n",
       "| 2017-12-11 | 성북구     |  55        |\n",
       "| 2017-12-10 | 성북구     |  38        |\n",
       "| 2017-12-09 | 성북구     |  43        |\n",
       "| 2017-12-08 | 성북구     |  32        |\n",
       "| 2017-12-07 | 성북구     |  45        |\n",
       "| 2017-12-06 | 성북구     |  32        |\n",
       "| 2017-12-05 | 성북구     |  23        |\n",
       "| 2017-12-04 | 성북구     |  41        |\n",
       "| 2017-12-03 | 성북구     |  54        |\n",
       "| 2017-12-02 | 성북구     |  43        |\n",
       "| ... | ... | ... |\n",
       "| 2017-09-30 | 성북구     | 43         |\n",
       "| 2017-09-29 | 성북구     | 26         |\n",
       "| 2017-09-28 | 성북구     | 27         |\n",
       "| 2017-09-27 | 성북구     | 47         |\n",
       "| 2017-09-26 | 성북구     | 55         |\n",
       "| 2017-09-25 | 성북구     | 53         |\n",
       "| 2017-09-24 | 성북구     | 79         |\n",
       "| 2017-09-23 | 성북구     | 69         |\n",
       "| 2017-09-22 | 성북구     | 38         |\n",
       "| 2017-09-21 | 성북구     | 33         |\n",
       "| 2017-09-20 | 성북구     | 29         |\n",
       "| 2017-09-19 | 성북구     | 75         |\n",
       "| 2017-09-18 | 성북구     | 24         |\n",
       "| 2017-09-17 | 성북구     | 12         |\n",
       "| 2017-09-16 | 성북구     | 15         |\n",
       "| 2017-09-15 | 성북구     | 22         |\n",
       "| 2017-09-14 | 성북구     | 34         |\n",
       "| 2017-09-13 | 성북구     | 28         |\n",
       "| 2017-09-12 | 성북구     | 29         |\n",
       "| 2017-09-11 | 성북구     | 26         |\n",
       "| 2017-09-10 | 성북구     | 60         |\n",
       "| 2017-09-09 | 성북구     | 60         |\n",
       "| 2017-09-08 | 성북구     | 52         |\n",
       "| 2017-09-07 | 성북구     | 44         |\n",
       "| 2017-09-06 | 성북구     | 32         |\n",
       "| 2017-09-05 | 성북구     | 32         |\n",
       "| 2017-09-04 | 성북구     | 37         |\n",
       "| 2017-09-03 | 성북구     | 36         |\n",
       "| 2017-09-02 | 성북구     | 31         |\n",
       "| 2017-09-01 | 성북구     | 30         |\n",
       "\n"
      ],
      "text/plain": [
       "    yyyymmdd   area   finedust\n",
       "1   2017-12-31 성북구  60     \n",
       "2   2017-12-30 성북구 128     \n",
       "3   2017-12-29 성북구  95     \n",
       "4   2017-12-28 성북구  47     \n",
       "5   2017-12-27 성북구  27     \n",
       "6   2017-12-26 성북구  27     \n",
       "7   2017-12-25 성북구  29     \n",
       "8   2017-12-24 성북구  79     \n",
       "9   2017-12-23 성북구 116     \n",
       "10  2017-12-22 성북구  63     \n",
       "11  2017-12-21 성북구  53     \n",
       "12  2017-12-20 성북구  43     \n",
       "13  2017-12-19 성북구  46     \n",
       "14  2017-12-18 성북구  59     \n",
       "15  2017-12-17 성북구  39     \n",
       "16  2017-12-16 성북구  41     \n",
       "17  2017-12-15 성북구  95     \n",
       "18  2017-12-14 성북구  58     \n",
       "19  2017-12-13 성북구  38     \n",
       "20  2017-12-12 성북구  33     \n",
       "21  2017-12-11 성북구  55     \n",
       "22  2017-12-10 성북구  38     \n",
       "23  2017-12-09 성북구  43     \n",
       "24  2017-12-08 성북구  32     \n",
       "25  2017-12-07 성북구  45     \n",
       "26  2017-12-06 성북구  32     \n",
       "27  2017-12-05 성북구  23     \n",
       "28  2017-12-04 성북구  41     \n",
       "29  2017-12-03 성북구  54     \n",
       "30  2017-12-02 성북구  43     \n",
       "... ...        ...    ...     \n",
       "93  2017-09-30 성북구 43      \n",
       "94  2017-09-29 성북구 26      \n",
       "95  2017-09-28 성북구 27      \n",
       "96  2017-09-27 성북구 47      \n",
       "97  2017-09-26 성북구 55      \n",
       "98  2017-09-25 성북구 53      \n",
       "99  2017-09-24 성북구 79      \n",
       "100 2017-09-23 성북구 69      \n",
       "101 2017-09-22 성북구 38      \n",
       "102 2017-09-21 성북구 33      \n",
       "103 2017-09-20 성북구 29      \n",
       "104 2017-09-19 성북구 75      \n",
       "105 2017-09-18 성북구 24      \n",
       "106 2017-09-17 성북구 12      \n",
       "107 2017-09-16 성북구 15      \n",
       "108 2017-09-15 성북구 22      \n",
       "109 2017-09-14 성북구 34      \n",
       "110 2017-09-13 성북구 28      \n",
       "111 2017-09-12 성북구 29      \n",
       "112 2017-09-11 성북구 26      \n",
       "113 2017-09-10 성북구 60      \n",
       "114 2017-09-09 성북구 60      \n",
       "115 2017-09-08 성북구 52      \n",
       "116 2017-09-07 성북구 44      \n",
       "117 2017-09-06 성북구 32      \n",
       "118 2017-09-05 성북구 32      \n",
       "119 2017-09-04 성북구 37      \n",
       "120 2017-09-03 성북구 36      \n",
       "121 2017-09-02 성북구 31      \n",
       "122 2017-09-01 성북구 30      "
      ]
     },
     "metadata": {},
     "output_type": "display_data"
    },
    {
     "data": {
      "text/html": [
       "<table>\n",
       "<thead><tr><th scope=col>yyyymmdd</th><th scope=col>area</th><th scope=col>finedust</th></tr></thead>\n",
       "<tbody>\n",
       "\t<tr><td>2017-12-31</td><td>중구      </td><td> 53       </td></tr>\n",
       "\t<tr><td>2017-12-30</td><td>중구      </td><td>112       </td></tr>\n",
       "\t<tr><td>2017-12-29</td><td>중구      </td><td> 81       </td></tr>\n",
       "\t<tr><td>2017-12-28</td><td>중구      </td><td> 35       </td></tr>\n",
       "\t<tr><td>2017-12-27</td><td>중구      </td><td> 23       </td></tr>\n",
       "\t<tr><td>2017-12-26</td><td>중구      </td><td> 22       </td></tr>\n",
       "\t<tr><td>2017-12-25</td><td>중구      </td><td> 23       </td></tr>\n",
       "\t<tr><td>2017-12-24</td><td>중구      </td><td> 69       </td></tr>\n",
       "\t<tr><td>2017-12-23</td><td>중구      </td><td> 99       </td></tr>\n",
       "\t<tr><td>2017-12-22</td><td>중구      </td><td> 55       </td></tr>\n",
       "\t<tr><td>2017-12-21</td><td>중구      </td><td> 48       </td></tr>\n",
       "\t<tr><td>2017-12-20</td><td>중구      </td><td> 42       </td></tr>\n",
       "\t<tr><td>2017-12-19</td><td>중구      </td><td> 42       </td></tr>\n",
       "\t<tr><td>2017-12-18</td><td>중구      </td><td> 57       </td></tr>\n",
       "\t<tr><td>2017-12-17</td><td>중구      </td><td> 31       </td></tr>\n",
       "\t<tr><td>2017-12-16</td><td>중구      </td><td> 36       </td></tr>\n",
       "\t<tr><td>2017-12-15</td><td>중구      </td><td> 73       </td></tr>\n",
       "\t<tr><td>2017-12-14</td><td>중구      </td><td> 48       </td></tr>\n",
       "\t<tr><td>2017-12-13</td><td>중구      </td><td> 30       </td></tr>\n",
       "\t<tr><td>2017-12-12</td><td>중구      </td><td> 28       </td></tr>\n",
       "\t<tr><td>2017-12-11</td><td>중구      </td><td> 36       </td></tr>\n",
       "\t<tr><td>2017-12-10</td><td>중구      </td><td> 37       </td></tr>\n",
       "\t<tr><td>2017-12-09</td><td>중구      </td><td> 36       </td></tr>\n",
       "\t<tr><td>2017-12-08</td><td>중구      </td><td> 28       </td></tr>\n",
       "\t<tr><td>2017-12-07</td><td>중구      </td><td> 42       </td></tr>\n",
       "\t<tr><td>2017-12-06</td><td>중구      </td><td> 32       </td></tr>\n",
       "\t<tr><td>2017-12-05</td><td>중구      </td><td> 19       </td></tr>\n",
       "\t<tr><td>2017-12-04</td><td>중구      </td><td> 38       </td></tr>\n",
       "\t<tr><td>2017-12-03</td><td>중구      </td><td> 48       </td></tr>\n",
       "\t<tr><td>2017-12-02</td><td>중구      </td><td> 35       </td></tr>\n",
       "\t<tr><td>...</td><td>...</td><td>...</td></tr>\n",
       "\t<tr><td>2017-09-30</td><td>중구      </td><td>33        </td></tr>\n",
       "\t<tr><td>2017-09-29</td><td>중구      </td><td>20        </td></tr>\n",
       "\t<tr><td>2017-09-28</td><td>중구      </td><td>20        </td></tr>\n",
       "\t<tr><td>2017-09-27</td><td>중구      </td><td>41        </td></tr>\n",
       "\t<tr><td>2017-09-26</td><td>중구      </td><td>45        </td></tr>\n",
       "\t<tr><td>2017-09-25</td><td>중구      </td><td>43        </td></tr>\n",
       "\t<tr><td>2017-09-24</td><td>중구      </td><td>62        </td></tr>\n",
       "\t<tr><td>2017-09-23</td><td>중구      </td><td>52        </td></tr>\n",
       "\t<tr><td>2017-09-22</td><td>중구      </td><td>30        </td></tr>\n",
       "\t<tr><td>2017-09-21</td><td>중구      </td><td>28        </td></tr>\n",
       "\t<tr><td>2017-09-20</td><td>중구      </td><td>20        </td></tr>\n",
       "\t<tr><td>2017-09-19</td><td>중구      </td><td>59        </td></tr>\n",
       "\t<tr><td>2017-09-18</td><td>중구      </td><td>18        </td></tr>\n",
       "\t<tr><td>2017-09-17</td><td>중구      </td><td> 8        </td></tr>\n",
       "\t<tr><td>2017-09-16</td><td>중구      </td><td> 9        </td></tr>\n",
       "\t<tr><td>2017-09-15</td><td>중구      </td><td>15        </td></tr>\n",
       "\t<tr><td>2017-09-14</td><td>중구      </td><td>24        </td></tr>\n",
       "\t<tr><td>2017-09-13</td><td>중구      </td><td>21        </td></tr>\n",
       "\t<tr><td>2017-09-12</td><td>중구      </td><td>21        </td></tr>\n",
       "\t<tr><td>2017-09-11</td><td>중구      </td><td>21        </td></tr>\n",
       "\t<tr><td>2017-09-10</td><td>중구      </td><td>46        </td></tr>\n",
       "\t<tr><td>2017-09-09</td><td>중구      </td><td>60        </td></tr>\n",
       "\t<tr><td>2017-09-08</td><td>중구      </td><td>58        </td></tr>\n",
       "\t<tr><td>2017-09-07</td><td>중구      </td><td>35        </td></tr>\n",
       "\t<tr><td>2017-09-06</td><td>중구      </td><td>24        </td></tr>\n",
       "\t<tr><td>2017-09-05</td><td>중구      </td><td>23        </td></tr>\n",
       "\t<tr><td>2017-09-04</td><td>중구      </td><td>28        </td></tr>\n",
       "\t<tr><td>2017-09-03</td><td>중구      </td><td>28        </td></tr>\n",
       "\t<tr><td>2017-09-02</td><td>중구      </td><td>23        </td></tr>\n",
       "\t<tr><td>2017-09-01</td><td>중구      </td><td>22        </td></tr>\n",
       "</tbody>\n",
       "</table>\n"
      ],
      "text/latex": [
       "\\begin{tabular}{r|lll}\n",
       " yyyymmdd & area & finedust\\\\\n",
       "\\hline\n",
       "\t 2017-12-31 & 중구       &  53       \\\\\n",
       "\t 2017-12-30 & 중구       & 112       \\\\\n",
       "\t 2017-12-29 & 중구       &  81       \\\\\n",
       "\t 2017-12-28 & 중구       &  35       \\\\\n",
       "\t 2017-12-27 & 중구       &  23       \\\\\n",
       "\t 2017-12-26 & 중구       &  22       \\\\\n",
       "\t 2017-12-25 & 중구       &  23       \\\\\n",
       "\t 2017-12-24 & 중구       &  69       \\\\\n",
       "\t 2017-12-23 & 중구       &  99       \\\\\n",
       "\t 2017-12-22 & 중구       &  55       \\\\\n",
       "\t 2017-12-21 & 중구       &  48       \\\\\n",
       "\t 2017-12-20 & 중구       &  42       \\\\\n",
       "\t 2017-12-19 & 중구       &  42       \\\\\n",
       "\t 2017-12-18 & 중구       &  57       \\\\\n",
       "\t 2017-12-17 & 중구       &  31       \\\\\n",
       "\t 2017-12-16 & 중구       &  36       \\\\\n",
       "\t 2017-12-15 & 중구       &  73       \\\\\n",
       "\t 2017-12-14 & 중구       &  48       \\\\\n",
       "\t 2017-12-13 & 중구       &  30       \\\\\n",
       "\t 2017-12-12 & 중구       &  28       \\\\\n",
       "\t 2017-12-11 & 중구       &  36       \\\\\n",
       "\t 2017-12-10 & 중구       &  37       \\\\\n",
       "\t 2017-12-09 & 중구       &  36       \\\\\n",
       "\t 2017-12-08 & 중구       &  28       \\\\\n",
       "\t 2017-12-07 & 중구       &  42       \\\\\n",
       "\t 2017-12-06 & 중구       &  32       \\\\\n",
       "\t 2017-12-05 & 중구       &  19       \\\\\n",
       "\t 2017-12-04 & 중구       &  38       \\\\\n",
       "\t 2017-12-03 & 중구       &  48       \\\\\n",
       "\t 2017-12-02 & 중구       &  35       \\\\\n",
       "\t ... & ... & ...\\\\\n",
       "\t 2017-09-30 & 중구       & 33        \\\\\n",
       "\t 2017-09-29 & 중구       & 20        \\\\\n",
       "\t 2017-09-28 & 중구       & 20        \\\\\n",
       "\t 2017-09-27 & 중구       & 41        \\\\\n",
       "\t 2017-09-26 & 중구       & 45        \\\\\n",
       "\t 2017-09-25 & 중구       & 43        \\\\\n",
       "\t 2017-09-24 & 중구       & 62        \\\\\n",
       "\t 2017-09-23 & 중구       & 52        \\\\\n",
       "\t 2017-09-22 & 중구       & 30        \\\\\n",
       "\t 2017-09-21 & 중구       & 28        \\\\\n",
       "\t 2017-09-20 & 중구       & 20        \\\\\n",
       "\t 2017-09-19 & 중구       & 59        \\\\\n",
       "\t 2017-09-18 & 중구       & 18        \\\\\n",
       "\t 2017-09-17 & 중구       &  8        \\\\\n",
       "\t 2017-09-16 & 중구       &  9        \\\\\n",
       "\t 2017-09-15 & 중구       & 15        \\\\\n",
       "\t 2017-09-14 & 중구       & 24        \\\\\n",
       "\t 2017-09-13 & 중구       & 21        \\\\\n",
       "\t 2017-09-12 & 중구       & 21        \\\\\n",
       "\t 2017-09-11 & 중구       & 21        \\\\\n",
       "\t 2017-09-10 & 중구       & 46        \\\\\n",
       "\t 2017-09-09 & 중구       & 60        \\\\\n",
       "\t 2017-09-08 & 중구       & 58        \\\\\n",
       "\t 2017-09-07 & 중구       & 35        \\\\\n",
       "\t 2017-09-06 & 중구       & 24        \\\\\n",
       "\t 2017-09-05 & 중구       & 23        \\\\\n",
       "\t 2017-09-04 & 중구       & 28        \\\\\n",
       "\t 2017-09-03 & 중구       & 28        \\\\\n",
       "\t 2017-09-02 & 중구       & 23        \\\\\n",
       "\t 2017-09-01 & 중구       & 22        \\\\\n",
       "\\end{tabular}\n"
      ],
      "text/markdown": [
       "\n",
       "| yyyymmdd | area | finedust |\n",
       "|---|---|---|\n",
       "| 2017-12-31 | 중구       |  53        |\n",
       "| 2017-12-30 | 중구       | 112        |\n",
       "| 2017-12-29 | 중구       |  81        |\n",
       "| 2017-12-28 | 중구       |  35        |\n",
       "| 2017-12-27 | 중구       |  23        |\n",
       "| 2017-12-26 | 중구       |  22        |\n",
       "| 2017-12-25 | 중구       |  23        |\n",
       "| 2017-12-24 | 중구       |  69        |\n",
       "| 2017-12-23 | 중구       |  99        |\n",
       "| 2017-12-22 | 중구       |  55        |\n",
       "| 2017-12-21 | 중구       |  48        |\n",
       "| 2017-12-20 | 중구       |  42        |\n",
       "| 2017-12-19 | 중구       |  42        |\n",
       "| 2017-12-18 | 중구       |  57        |\n",
       "| 2017-12-17 | 중구       |  31        |\n",
       "| 2017-12-16 | 중구       |  36        |\n",
       "| 2017-12-15 | 중구       |  73        |\n",
       "| 2017-12-14 | 중구       |  48        |\n",
       "| 2017-12-13 | 중구       |  30        |\n",
       "| 2017-12-12 | 중구       |  28        |\n",
       "| 2017-12-11 | 중구       |  36        |\n",
       "| 2017-12-10 | 중구       |  37        |\n",
       "| 2017-12-09 | 중구       |  36        |\n",
       "| 2017-12-08 | 중구       |  28        |\n",
       "| 2017-12-07 | 중구       |  42        |\n",
       "| 2017-12-06 | 중구       |  32        |\n",
       "| 2017-12-05 | 중구       |  19        |\n",
       "| 2017-12-04 | 중구       |  38        |\n",
       "| 2017-12-03 | 중구       |  48        |\n",
       "| 2017-12-02 | 중구       |  35        |\n",
       "| ... | ... | ... |\n",
       "| 2017-09-30 | 중구       | 33         |\n",
       "| 2017-09-29 | 중구       | 20         |\n",
       "| 2017-09-28 | 중구       | 20         |\n",
       "| 2017-09-27 | 중구       | 41         |\n",
       "| 2017-09-26 | 중구       | 45         |\n",
       "| 2017-09-25 | 중구       | 43         |\n",
       "| 2017-09-24 | 중구       | 62         |\n",
       "| 2017-09-23 | 중구       | 52         |\n",
       "| 2017-09-22 | 중구       | 30         |\n",
       "| 2017-09-21 | 중구       | 28         |\n",
       "| 2017-09-20 | 중구       | 20         |\n",
       "| 2017-09-19 | 중구       | 59         |\n",
       "| 2017-09-18 | 중구       | 18         |\n",
       "| 2017-09-17 | 중구       |  8         |\n",
       "| 2017-09-16 | 중구       |  9         |\n",
       "| 2017-09-15 | 중구       | 15         |\n",
       "| 2017-09-14 | 중구       | 24         |\n",
       "| 2017-09-13 | 중구       | 21         |\n",
       "| 2017-09-12 | 중구       | 21         |\n",
       "| 2017-09-11 | 중구       | 21         |\n",
       "| 2017-09-10 | 중구       | 46         |\n",
       "| 2017-09-09 | 중구       | 60         |\n",
       "| 2017-09-08 | 중구       | 58         |\n",
       "| 2017-09-07 | 중구       | 35         |\n",
       "| 2017-09-06 | 중구       | 24         |\n",
       "| 2017-09-05 | 중구       | 23         |\n",
       "| 2017-09-04 | 중구       | 28         |\n",
       "| 2017-09-03 | 중구       | 28         |\n",
       "| 2017-09-02 | 중구       | 23         |\n",
       "| 2017-09-01 | 중구       | 22         |\n",
       "\n"
      ],
      "text/plain": [
       "    yyyymmdd   area finedust\n",
       "1   2017-12-31 중구  53     \n",
       "2   2017-12-30 중구 112     \n",
       "3   2017-12-29 중구  81     \n",
       "4   2017-12-28 중구  35     \n",
       "5   2017-12-27 중구  23     \n",
       "6   2017-12-26 중구  22     \n",
       "7   2017-12-25 중구  23     \n",
       "8   2017-12-24 중구  69     \n",
       "9   2017-12-23 중구  99     \n",
       "10  2017-12-22 중구  55     \n",
       "11  2017-12-21 중구  48     \n",
       "12  2017-12-20 중구  42     \n",
       "13  2017-12-19 중구  42     \n",
       "14  2017-12-18 중구  57     \n",
       "15  2017-12-17 중구  31     \n",
       "16  2017-12-16 중구  36     \n",
       "17  2017-12-15 중구  73     \n",
       "18  2017-12-14 중구  48     \n",
       "19  2017-12-13 중구  30     \n",
       "20  2017-12-12 중구  28     \n",
       "21  2017-12-11 중구  36     \n",
       "22  2017-12-10 중구  37     \n",
       "23  2017-12-09 중구  36     \n",
       "24  2017-12-08 중구  28     \n",
       "25  2017-12-07 중구  42     \n",
       "26  2017-12-06 중구  32     \n",
       "27  2017-12-05 중구  19     \n",
       "28  2017-12-04 중구  38     \n",
       "29  2017-12-03 중구  48     \n",
       "30  2017-12-02 중구  35     \n",
       "... ...        ...  ...     \n",
       "93  2017-09-30 중구 33      \n",
       "94  2017-09-29 중구 20      \n",
       "95  2017-09-28 중구 20      \n",
       "96  2017-09-27 중구 41      \n",
       "97  2017-09-26 중구 45      \n",
       "98  2017-09-25 중구 43      \n",
       "99  2017-09-24 중구 62      \n",
       "100 2017-09-23 중구 52      \n",
       "101 2017-09-22 중구 30      \n",
       "102 2017-09-21 중구 28      \n",
       "103 2017-09-20 중구 20      \n",
       "104 2017-09-19 중구 59      \n",
       "105 2017-09-18 중구 18      \n",
       "106 2017-09-17 중구  8      \n",
       "107 2017-09-16 중구  9      \n",
       "108 2017-09-15 중구 15      \n",
       "109 2017-09-14 중구 24      \n",
       "110 2017-09-13 중구 21      \n",
       "111 2017-09-12 중구 21      \n",
       "112 2017-09-11 중구 21      \n",
       "113 2017-09-10 중구 46      \n",
       "114 2017-09-09 중구 60      \n",
       "115 2017-09-08 중구 58      \n",
       "116 2017-09-07 중구 35      \n",
       "117 2017-09-06 중구 24      \n",
       "118 2017-09-05 중구 23      \n",
       "119 2017-09-04 중구 28      \n",
       "120 2017-09-03 중구 28      \n",
       "121 2017-09-02 중구 23      \n",
       "122 2017-09-01 중구 22      "
      ]
     },
     "metadata": {},
     "output_type": "display_data"
    }
   ],
   "source": [
    "# 성북구와 중구에 데이터를 각각 분리\n",
    "\n",
    "dust_sb <- subset(dust_anal, area == \"성북구\")\n",
    "dust_jg <- subset(dust_anal, area == \"중구\")\n",
    "# sub(데이터, 조건)\n",
    "# dust_sb <- dust_anal %>% filter(area == \"성북구\")\n",
    "# dust_jg <- dust_anal %>% filter(area == \"중구\")\n",
    "dust_sb\n",
    "dust_jg"
   ]
  },
  {
   "cell_type": "code",
   "execution_count": 39,
   "id": "sunrise-newton",
   "metadata": {},
   "outputs": [
    {
     "name": "stderr",
     "output_type": "stream",
     "text": [
      "Installing package into 'C:/Users/samsung/Documents/R/win-library/3.6'\n",
      "(as 'lib' is unspecified)\n",
      "also installing the dependencies 'tmvnsim', 'mnormt'\n",
      "\n"
     ]
    },
    {
     "name": "stdout",
     "output_type": "stream",
     "text": [
      "package 'tmvnsim' successfully unpacked and MD5 sums checked\n",
      "package 'mnormt' successfully unpacked and MD5 sums checked\n",
      "package 'psych' successfully unpacked and MD5 sums checked\n",
      "\n",
      "The downloaded binary packages are in\n",
      "\tC:\\Users\\samsung\\AppData\\Local\\Temp\\Rtmp0YUTZD\\downloaded_packages\n"
     ]
    },
    {
     "name": "stderr",
     "output_type": "stream",
     "text": [
      "Warning message:\n",
      "\"package 'psych' was built under R version 3.6.3\""
     ]
    }
   ],
   "source": [
    "install.packages(\"psych\")\n",
    "library(psych)"
   ]
  },
  {
   "cell_type": "code",
   "execution_count": 40,
   "id": "arranged-orleans",
   "metadata": {},
   "outputs": [
    {
     "data": {
      "text/html": [
       "<table>\n",
       "<thead><tr><th></th><th scope=col>vars</th><th scope=col>n</th><th scope=col>mean</th><th scope=col>sd</th><th scope=col>median</th><th scope=col>trimmed</th><th scope=col>mad</th><th scope=col>min</th><th scope=col>max</th><th scope=col>range</th><th scope=col>skew</th><th scope=col>kurtosis</th><th scope=col>se</th></tr></thead>\n",
       "<tbody>\n",
       "\t<tr><th scope=row>X1</th><td>1       </td><td>122     </td><td>42.7459 </td><td>20.13736</td><td>39.5    </td><td>40.33673</td><td>17.0499 </td><td>9       </td><td>128     </td><td>119     </td><td>1.405036</td><td>2.932981</td><td>1.823151</td></tr>\n",
       "</tbody>\n",
       "</table>\n"
      ],
      "text/latex": [
       "\\begin{tabular}{r|lllllllllllll}\n",
       "  & vars & n & mean & sd & median & trimmed & mad & min & max & range & skew & kurtosis & se\\\\\n",
       "\\hline\n",
       "\tX1 & 1        & 122      & 42.7459  & 20.13736 & 39.5     & 40.33673 & 17.0499  & 9        & 128      & 119      & 1.405036 & 2.932981 & 1.823151\\\\\n",
       "\\end{tabular}\n"
      ],
      "text/markdown": [
       "\n",
       "| <!--/--> | vars | n | mean | sd | median | trimmed | mad | min | max | range | skew | kurtosis | se |\n",
       "|---|---|---|---|---|---|---|---|---|---|---|---|---|---|\n",
       "| X1 | 1        | 122      | 42.7459  | 20.13736 | 39.5     | 40.33673 | 17.0499  | 9        | 128      | 119      | 1.405036 | 2.932981 | 1.823151 |\n",
       "\n"
      ],
      "text/plain": [
       "   vars n   mean    sd       median trimmed  mad     min max range skew    \n",
       "X1 1    122 42.7459 20.13736 39.5   40.33673 17.0499 9   128 119   1.405036\n",
       "   kurtosis se      \n",
       "X1 2.932981 1.823151"
      ]
     },
     "metadata": {},
     "output_type": "display_data"
    },
    {
     "data": {
      "text/html": [
       "<table>\n",
       "<thead><tr><th></th><th scope=col>vars</th><th scope=col>n</th><th scope=col>mean</th><th scope=col>sd</th><th scope=col>median</th><th scope=col>trimmed</th><th scope=col>mad</th><th scope=col>min</th><th scope=col>max</th><th scope=col>range</th><th scope=col>skew</th><th scope=col>kurtosis</th><th scope=col>se</th></tr></thead>\n",
       "<tbody>\n",
       "\t<tr><th scope=row>X1</th><td>1       </td><td>122     </td><td>35.90984</td><td>17.43607</td><td>33.5    </td><td>34.12245</td><td>15.5673 </td><td>8       </td><td>112     </td><td>104     </td><td>1.328124</td><td>2.882259</td><td>1.578588</td></tr>\n",
       "</tbody>\n",
       "</table>\n"
      ],
      "text/latex": [
       "\\begin{tabular}{r|lllllllllllll}\n",
       "  & vars & n & mean & sd & median & trimmed & mad & min & max & range & skew & kurtosis & se\\\\\n",
       "\\hline\n",
       "\tX1 & 1        & 122      & 35.90984 & 17.43607 & 33.5     & 34.12245 & 15.5673  & 8        & 112      & 104      & 1.328124 & 2.882259 & 1.578588\\\\\n",
       "\\end{tabular}\n"
      ],
      "text/markdown": [
       "\n",
       "| <!--/--> | vars | n | mean | sd | median | trimmed | mad | min | max | range | skew | kurtosis | se |\n",
       "|---|---|---|---|---|---|---|---|---|---|---|---|---|---|\n",
       "| X1 | 1        | 122      | 35.90984 | 17.43607 | 33.5     | 34.12245 | 15.5673  | 8        | 112      | 104      | 1.328124 | 2.882259 | 1.578588 |\n",
       "\n"
      ],
      "text/plain": [
       "   vars n   mean     sd       median trimmed  mad     min max range skew    \n",
       "X1 1    122 35.90984 17.43607 33.5   34.12245 15.5673 8   112 104   1.328124\n",
       "   kurtosis se      \n",
       "X1 2.882259 1.578588"
      ]
     },
     "metadata": {},
     "output_type": "display_data"
    }
   ],
   "source": [
    "# 분리한 두 개구의 데이터를 이용해서 기초 통계량을 도출 describe()\n",
    "\n",
    "describe(dust_sb$finedust)\n",
    "\n",
    "describe(dust_jg$finedust)"
   ]
  },
  {
   "cell_type": "code",
   "execution_count": 44,
   "id": "dental-usage",
   "metadata": {},
   "outputs": [
    {
     "data": {
      "image/png": "[encoded data removed]",
      "text/plain": [
       "Plot with title \"finedust_compare\""
      ]
     },
     "metadata": {},
     "output_type": "display_data"
    }
   ],
   "source": [
    "# 성북구와 중구의 미세먼지 분포확인 boxplot()\n",
    "\n",
    "boxplot(dust_sb$finedust, dust_jg$finedust, main = \"finedust_compare\", xlab=\"AREA\", names=c(\"성북구\", \"중구\"),\n",
    "        ylab=\"FINEDUST\", col=c(\"blue\",\"green\"))"
   ]
  },
  {
   "cell_type": "code",
   "execution_count": 45,
   "id": "clear-constitution",
   "metadata": {},
   "outputs": [
    {
     "data": {
      "text/plain": [
       "\n",
       "\tWelch Two Sample t-test\n",
       "\n",
       "data:  finedust by area\n",
       "t = 2.8347, df = 237.15, p-value = 0.004983\n",
       "alternative hypothesis: true difference in means is not equal to 0\n",
       "95 percent confidence interval:\n",
       "  2.085169 11.586962\n",
       "sample estimates:\n",
       "mean in group 성북구   mean in group 중구 \n",
       "            42.74590             35.90984 \n"
      ]
     },
     "metadata": {},
     "output_type": "display_data"
    }
   ],
   "source": [
    "t.test(data = dust_anal, finedust ~ area , var.qual = T)\n",
    "\n",
    "# 결과\n",
    "# p=value = 0.004983 으로 0.05보다 작다. 따라서 귀무가설 \n",
    "# (성북구와 중구의 미세먼지 평균은 차이가 나지 않는다)를 기각한다.\n",
    "# 차이가 있다는 대립가설을 채택한다."
   ]
  },
  {
   "cell_type": "code",
   "execution_count": null,
   "id": "changing-distinction",
   "metadata": {},
   "outputs": [],
   "source": []
  }
 ],
 "metadata": {
  "kernelspec": {
   "display_name": "R",
   "language": "R",
   "name": "ir"
  },
  "language_info": {
   "codemirror_mode": "r",
   "file_extension": ".r",
   "mimetype": "text/x-r-source",
   "name": "R",
   "pygments_lexer": "r",
   "version": "3.6.1"
  }
 },
 "nbformat": 4,
 "nbformat_minor": 5
}
